{
 "cells": [
  {
   "cell_type": "code",
   "execution_count": 1,
   "id": "b7e8c073",
   "metadata": {},
   "outputs": [
    {
     "name": "stdout",
     "output_type": "stream",
     "text": [
      "Requirement already satisfied: scikit-learn in c:\\users\\pklet\\anaconda3\\lib\\site-packages (1.3.0)\n",
      "Requirement already satisfied: numpy>=1.17.3 in c:\\users\\pklet\\anaconda3\\lib\\site-packages (from scikit-learn) (1.24.3)\n",
      "Requirement already satisfied: scipy>=1.5.0 in c:\\users\\pklet\\anaconda3\\lib\\site-packages (from scikit-learn) (1.11.1)\n",
      "Requirement already satisfied: joblib>=1.1.1 in c:\\users\\pklet\\anaconda3\\lib\\site-packages (from scikit-learn) (1.2.0)\n",
      "Requirement already satisfied: threadpoolctl>=2.0.0 in c:\\users\\pklet\\anaconda3\\lib\\site-packages (from scikit-learn) (2.2.0)\n",
      "Note: you may need to restart the kernel to use updated packages.\n"
     ]
    }
   ],
   "source": [
    "pip install scikit-learn"
   ]
  },
  {
   "cell_type": "markdown",
   "id": "b68e856c",
   "metadata": {},
   "source": [
    "### 1. Importing libraries and data"
   ]
  },
  {
   "cell_type": "code",
   "execution_count": 2,
   "id": "83ce3bea",
   "metadata": {},
   "outputs": [],
   "source": [
    "import pandas as pd\n",
    "import numpy as np\n",
    "import seaborn as sns\n",
    "import matplotlib.pyplot as plt\n",
    "import matplotlib\n",
    "import os\n",
    "import sklearn\n",
    "from sklearn.model_selection import train_test_split\n",
    "from sklearn.linear_model import LinearRegression\n",
    "from sklearn.metrics import mean_squared_error, r2_score\n",
    "import plotly.graph_objs as go\n",
    "from plotly import tools"
   ]
  },
  {
   "cell_type": "code",
   "execution_count": 3,
   "id": "e33ce526",
   "metadata": {},
   "outputs": [],
   "source": [
    "%matplotlib inline"
   ]
  },
  {
   "cell_type": "code",
   "execution_count": 4,
   "id": "8a8a49b1",
   "metadata": {},
   "outputs": [],
   "source": [
    "path = r'C:\\\\Users\\\\pklet\\\\OneDrive\\\\Petar\\\\University Rankings Data_Task 6'"
   ]
  },
  {
   "cell_type": "code",
   "execution_count": 5,
   "id": "284fbd7a",
   "metadata": {},
   "outputs": [],
   "source": [
    "df_spending_per_country = pd.read_csv(os.path.join(path, 'Education_spending_per_countries_with_top_ranking_universities.csv'), index_col = False)"
   ]
  },
  {
   "cell_type": "markdown",
   "id": "c90cb4dc",
   "metadata": {},
   "source": [
    "## Hypothesis: The more countries spend (invest) in education, the more universities in that countries will be in the World Top Universitis."
   ]
  },
  {
   "cell_type": "markdown",
   "id": "a657284a",
   "metadata": {},
   "source": [
    "### 2. Data cleaning"
   ]
  },
  {
   "cell_type": "code",
   "execution_count": 6,
   "id": "3f0381ba",
   "metadata": {},
   "outputs": [
    {
     "data": {
      "text/plain": [
       "Index(['Country', 'Number_of_universies_2016',\n",
       "       'Total_spending_for_education_2016', 'Number_of_universies_2017',\n",
       "       'Total_spending_for_education_2017', 'Number_of_universies_2018',\n",
       "       'Total_spending_for_education_2018', 'Number_of_universies_2019',\n",
       "       'Total_spending_for_education_2019', 'Number_of_universies_2020',\n",
       "       'Total_spending_for_education_2020'],\n",
       "      dtype='object')"
      ]
     },
     "execution_count": 6,
     "metadata": {},
     "output_type": "execute_result"
    }
   ],
   "source": [
    "df_spending_per_country.columns"
   ]
  },
  {
   "cell_type": "code",
   "execution_count": 7,
   "id": "8e2ed969",
   "metadata": {},
   "outputs": [
    {
     "data": {
      "text/html": [
       "<div>\n",
       "<style scoped>\n",
       "    .dataframe tbody tr th:only-of-type {\n",
       "        vertical-align: middle;\n",
       "    }\n",
       "\n",
       "    .dataframe tbody tr th {\n",
       "        vertical-align: top;\n",
       "    }\n",
       "\n",
       "    .dataframe thead th {\n",
       "        text-align: right;\n",
       "    }\n",
       "</style>\n",
       "<table border=\"1\" class=\"dataframe\">\n",
       "  <thead>\n",
       "    <tr style=\"text-align: right;\">\n",
       "      <th></th>\n",
       "      <th>Country</th>\n",
       "      <th>Number_of_universies_2016</th>\n",
       "      <th>Total_spending_for_education_2016</th>\n",
       "      <th>Number_of_universies_2017</th>\n",
       "      <th>Total_spending_for_education_2017</th>\n",
       "      <th>Number_of_universies_2018</th>\n",
       "      <th>Total_spending_for_education_2018</th>\n",
       "      <th>Number_of_universies_2019</th>\n",
       "      <th>Total_spending_for_education_2019</th>\n",
       "      <th>Number_of_universies_2020</th>\n",
       "      <th>Total_spending_for_education_2020</th>\n",
       "    </tr>\n",
       "  </thead>\n",
       "  <tbody>\n",
       "    <tr>\n",
       "      <th>0</th>\n",
       "      <td>United States</td>\n",
       "      <td>1176</td>\n",
       "      <td>227441017</td>\n",
       "      <td>1184</td>\n",
       "      <td>205525415</td>\n",
       "      <td>1256</td>\n",
       "      <td>165504643</td>\n",
       "      <td>1376</td>\n",
       "      <td>174577010</td>\n",
       "      <td>1376</td>\n",
       "      <td>149081061</td>\n",
       "    </tr>\n",
       "    <tr>\n",
       "      <th>1</th>\n",
       "      <td>United Kingdom</td>\n",
       "      <td>702</td>\n",
       "      <td>23195827</td>\n",
       "      <td>819</td>\n",
       "      <td>28849997</td>\n",
       "      <td>837</td>\n",
       "      <td>35159453</td>\n",
       "      <td>882</td>\n",
       "      <td>34827105</td>\n",
       "      <td>900</td>\n",
       "      <td>34803988</td>\n",
       "    </tr>\n",
       "    <tr>\n",
       "      <th>2</th>\n",
       "      <td>Japan</td>\n",
       "      <td>369</td>\n",
       "      <td>17330359</td>\n",
       "      <td>621</td>\n",
       "      <td>26629370</td>\n",
       "      <td>801</td>\n",
       "      <td>38643822</td>\n",
       "      <td>927</td>\n",
       "      <td>45037746</td>\n",
       "      <td>990</td>\n",
       "      <td>41930751</td>\n",
       "    </tr>\n",
       "    <tr>\n",
       "      <th>3</th>\n",
       "      <td>Germany</td>\n",
       "      <td>333</td>\n",
       "      <td>12670146</td>\n",
       "      <td>369</td>\n",
       "      <td>12641995</td>\n",
       "      <td>396</td>\n",
       "      <td>15744372</td>\n",
       "      <td>423</td>\n",
       "      <td>17623446</td>\n",
       "      <td>432</td>\n",
       "      <td>18204087</td>\n",
       "    </tr>\n",
       "    <tr>\n",
       "      <th>4</th>\n",
       "      <td>Italy</td>\n",
       "      <td>306</td>\n",
       "      <td>5012638</td>\n",
       "      <td>342</td>\n",
       "      <td>6806020</td>\n",
       "      <td>360</td>\n",
       "      <td>7555706</td>\n",
       "      <td>387</td>\n",
       "      <td>7969415</td>\n",
       "      <td>405</td>\n",
       "      <td>7743098</td>\n",
       "    </tr>\n",
       "    <tr>\n",
       "      <th>5</th>\n",
       "      <td>Australia</td>\n",
       "      <td>279</td>\n",
       "      <td>2647269</td>\n",
       "      <td>315</td>\n",
       "      <td>4517048</td>\n",
       "      <td>315</td>\n",
       "      <td>2228417</td>\n",
       "      <td>315</td>\n",
       "      <td>2001805</td>\n",
       "      <td>315</td>\n",
       "      <td>2045705</td>\n",
       "    </tr>\n",
       "    <tr>\n",
       "      <th>6</th>\n",
       "      <td>Spain</td>\n",
       "      <td>225</td>\n",
       "      <td>3510965</td>\n",
       "      <td>243</td>\n",
       "      <td>1790186</td>\n",
       "      <td>261</td>\n",
       "      <td>2478177</td>\n",
       "      <td>342</td>\n",
       "      <td>5847813</td>\n",
       "      <td>405</td>\n",
       "      <td>7516514</td>\n",
       "    </tr>\n",
       "    <tr>\n",
       "      <th>7</th>\n",
       "      <td>France</td>\n",
       "      <td>243</td>\n",
       "      <td>7179924</td>\n",
       "      <td>261</td>\n",
       "      <td>7722981</td>\n",
       "      <td>279</td>\n",
       "      <td>6271892</td>\n",
       "      <td>306</td>\n",
       "      <td>9751353</td>\n",
       "      <td>342</td>\n",
       "      <td>10330891</td>\n",
       "    </tr>\n",
       "    <tr>\n",
       "      <th>8</th>\n",
       "      <td>Canada</td>\n",
       "      <td>200</td>\n",
       "      <td>1341412</td>\n",
       "      <td>208</td>\n",
       "      <td>5235073</td>\n",
       "      <td>208</td>\n",
       "      <td>5340535</td>\n",
       "      <td>216</td>\n",
       "      <td>4447414</td>\n",
       "      <td>240</td>\n",
       "      <td>6066336</td>\n",
       "    </tr>\n",
       "    <tr>\n",
       "      <th>9</th>\n",
       "      <td>Netherlands</td>\n",
       "      <td>117</td>\n",
       "      <td>738562</td>\n",
       "      <td>117</td>\n",
       "      <td>832619</td>\n",
       "      <td>117</td>\n",
       "      <td>1274422</td>\n",
       "      <td>117</td>\n",
       "      <td>1144857</td>\n",
       "      <td>117</td>\n",
       "      <td>1046277</td>\n",
       "    </tr>\n",
       "    <tr>\n",
       "      <th>10</th>\n",
       "      <td>Czech Republic</td>\n",
       "      <td>81</td>\n",
       "      <td>196433</td>\n",
       "      <td>108</td>\n",
       "      <td>333230</td>\n",
       "      <td>117</td>\n",
       "      <td>105636</td>\n",
       "      <td>126</td>\n",
       "      <td>301402</td>\n",
       "      <td>153</td>\n",
       "      <td>369493</td>\n",
       "    </tr>\n",
       "    <tr>\n",
       "      <th>11</th>\n",
       "      <td>Chile</td>\n",
       "      <td>54</td>\n",
       "      <td>286532</td>\n",
       "      <td>90</td>\n",
       "      <td>268115</td>\n",
       "      <td>117</td>\n",
       "      <td>762509</td>\n",
       "      <td>144</td>\n",
       "      <td>579732</td>\n",
       "      <td>162</td>\n",
       "      <td>1016917</td>\n",
       "    </tr>\n",
       "    <tr>\n",
       "      <th>12</th>\n",
       "      <td>Mexico</td>\n",
       "      <td>18</td>\n",
       "      <td>298970</td>\n",
       "      <td>63</td>\n",
       "      <td>1276123</td>\n",
       "      <td>99</td>\n",
       "      <td>2531213</td>\n",
       "      <td>153</td>\n",
       "      <td>4025256</td>\n",
       "      <td>153</td>\n",
       "      <td>2069058</td>\n",
       "    </tr>\n",
       "    <tr>\n",
       "      <th>13</th>\n",
       "      <td>Poland</td>\n",
       "      <td>63</td>\n",
       "      <td>653741</td>\n",
       "      <td>81</td>\n",
       "      <td>757367</td>\n",
       "      <td>108</td>\n",
       "      <td>1165206</td>\n",
       "      <td>108</td>\n",
       "      <td>785303</td>\n",
       "      <td>126</td>\n",
       "      <td>1014869</td>\n",
       "    </tr>\n",
       "    <tr>\n",
       "      <th>14</th>\n",
       "      <td>Brazil</td>\n",
       "      <td>51</td>\n",
       "      <td>5066248</td>\n",
       "      <td>81</td>\n",
       "      <td>4076419</td>\n",
       "      <td>96</td>\n",
       "      <td>9537853</td>\n",
       "      <td>108</td>\n",
       "      <td>5198234</td>\n",
       "      <td>138</td>\n",
       "      <td>10711945</td>\n",
       "    </tr>\n",
       "    <tr>\n",
       "      <th>15</th>\n",
       "      <td>Sweden</td>\n",
       "      <td>66</td>\n",
       "      <td>506482</td>\n",
       "      <td>66</td>\n",
       "      <td>594349</td>\n",
       "      <td>99</td>\n",
       "      <td>550125</td>\n",
       "      <td>99</td>\n",
       "      <td>631860</td>\n",
       "      <td>108</td>\n",
       "      <td>604860</td>\n",
       "    </tr>\n",
       "    <tr>\n",
       "      <th>16</th>\n",
       "      <td>Finland</td>\n",
       "      <td>81</td>\n",
       "      <td>237839</td>\n",
       "      <td>81</td>\n",
       "      <td>145507</td>\n",
       "      <td>81</td>\n",
       "      <td>116783</td>\n",
       "      <td>81</td>\n",
       "      <td>237565</td>\n",
       "      <td>81</td>\n",
       "      <td>123054</td>\n",
       "    </tr>\n",
       "    <tr>\n",
       "      <th>17</th>\n",
       "      <td>Ireland</td>\n",
       "      <td>81</td>\n",
       "      <td>141524</td>\n",
       "      <td>81</td>\n",
       "      <td>139518</td>\n",
       "      <td>81</td>\n",
       "      <td>117548</td>\n",
       "      <td>81</td>\n",
       "      <td>60213</td>\n",
       "      <td>81</td>\n",
       "      <td>237190</td>\n",
       "    </tr>\n",
       "    <tr>\n",
       "      <th>18</th>\n",
       "      <td>Portugal</td>\n",
       "      <td>56</td>\n",
       "      <td>133990</td>\n",
       "      <td>64</td>\n",
       "      <td>224969</td>\n",
       "      <td>72</td>\n",
       "      <td>198950</td>\n",
       "      <td>104</td>\n",
       "      <td>438190</td>\n",
       "      <td>104</td>\n",
       "      <td>373310</td>\n",
       "    </tr>\n",
       "    <tr>\n",
       "      <th>19</th>\n",
       "      <td>Austria</td>\n",
       "      <td>63</td>\n",
       "      <td>307223</td>\n",
       "      <td>63</td>\n",
       "      <td>294498</td>\n",
       "      <td>72</td>\n",
       "      <td>341012</td>\n",
       "      <td>81</td>\n",
       "      <td>398073</td>\n",
       "      <td>99</td>\n",
       "      <td>238499</td>\n",
       "    </tr>\n",
       "    <tr>\n",
       "      <th>20</th>\n",
       "      <td>Belgium</td>\n",
       "      <td>56</td>\n",
       "      <td>371633</td>\n",
       "      <td>64</td>\n",
       "      <td>421439</td>\n",
       "      <td>64</td>\n",
       "      <td>436940</td>\n",
       "      <td>64</td>\n",
       "      <td>266575</td>\n",
       "      <td>64</td>\n",
       "      <td>252026</td>\n",
       "    </tr>\n",
       "    <tr>\n",
       "      <th>21</th>\n",
       "      <td>New Zealand</td>\n",
       "      <td>56</td>\n",
       "      <td>36400</td>\n",
       "      <td>64</td>\n",
       "      <td>95343</td>\n",
       "      <td>64</td>\n",
       "      <td>170803</td>\n",
       "      <td>64</td>\n",
       "      <td>56305</td>\n",
       "      <td>64</td>\n",
       "      <td>160751</td>\n",
       "    </tr>\n",
       "    <tr>\n",
       "      <th>22</th>\n",
       "      <td>Denmark</td>\n",
       "      <td>54</td>\n",
       "      <td>43705</td>\n",
       "      <td>63</td>\n",
       "      <td>244635</td>\n",
       "      <td>63</td>\n",
       "      <td>241136</td>\n",
       "      <td>63</td>\n",
       "      <td>251063</td>\n",
       "      <td>63</td>\n",
       "      <td>216124</td>\n",
       "    </tr>\n",
       "    <tr>\n",
       "      <th>23</th>\n",
       "      <td>Hungary</td>\n",
       "      <td>54</td>\n",
       "      <td>138056</td>\n",
       "      <td>54</td>\n",
       "      <td>89594</td>\n",
       "      <td>63</td>\n",
       "      <td>95328</td>\n",
       "      <td>63</td>\n",
       "      <td>170949</td>\n",
       "      <td>72</td>\n",
       "      <td>44641</td>\n",
       "    </tr>\n",
       "    <tr>\n",
       "      <th>24</th>\n",
       "      <td>Israel</td>\n",
       "      <td>54</td>\n",
       "      <td>163683</td>\n",
       "      <td>54</td>\n",
       "      <td>72955</td>\n",
       "      <td>54</td>\n",
       "      <td>167994</td>\n",
       "      <td>54</td>\n",
       "      <td>275445</td>\n",
       "      <td>54</td>\n",
       "      <td>160192</td>\n",
       "    </tr>\n",
       "    <tr>\n",
       "      <th>25</th>\n",
       "      <td>Romania</td>\n",
       "      <td>36</td>\n",
       "      <td>68369</td>\n",
       "      <td>36</td>\n",
       "      <td>56557</td>\n",
       "      <td>45</td>\n",
       "      <td>77689</td>\n",
       "      <td>63</td>\n",
       "      <td>27972</td>\n",
       "      <td>81</td>\n",
       "      <td>121816</td>\n",
       "    </tr>\n",
       "    <tr>\n",
       "      <th>26</th>\n",
       "      <td>Switzerland</td>\n",
       "      <td>50</td>\n",
       "      <td>242873</td>\n",
       "      <td>50</td>\n",
       "      <td>292285</td>\n",
       "      <td>50</td>\n",
       "      <td>292284</td>\n",
       "      <td>50</td>\n",
       "      <td>225804</td>\n",
       "      <td>22</td>\n",
       "      <td>23742</td>\n",
       "    </tr>\n",
       "    <tr>\n",
       "      <th>27</th>\n",
       "      <td>Norway</td>\n",
       "      <td>36</td>\n",
       "      <td>83211</td>\n",
       "      <td>45</td>\n",
       "      <td>215815</td>\n",
       "      <td>45</td>\n",
       "      <td>187268</td>\n",
       "      <td>45</td>\n",
       "      <td>184743</td>\n",
       "      <td>45</td>\n",
       "      <td>228170</td>\n",
       "    </tr>\n",
       "    <tr>\n",
       "      <th>28</th>\n",
       "      <td>South Africa</td>\n",
       "      <td>18</td>\n",
       "      <td>234713201</td>\n",
       "      <td>24</td>\n",
       "      <td>288282</td>\n",
       "      <td>24</td>\n",
       "      <td>602303</td>\n",
       "      <td>27</td>\n",
       "      <td>658815</td>\n",
       "      <td>30</td>\n",
       "      <td>519806</td>\n",
       "    </tr>\n",
       "    <tr>\n",
       "      <th>29</th>\n",
       "      <td>Estonia</td>\n",
       "      <td>18</td>\n",
       "      <td>3909</td>\n",
       "      <td>18</td>\n",
       "      <td>7142</td>\n",
       "      <td>18</td>\n",
       "      <td>2815</td>\n",
       "      <td>18</td>\n",
       "      <td>4277</td>\n",
       "      <td>27</td>\n",
       "      <td>11773</td>\n",
       "    </tr>\n",
       "    <tr>\n",
       "      <th>30</th>\n",
       "      <td>Lithuania</td>\n",
       "      <td>9</td>\n",
       "      <td>5913</td>\n",
       "      <td>18</td>\n",
       "      <td>11015</td>\n",
       "      <td>18</td>\n",
       "      <td>7107</td>\n",
       "      <td>18</td>\n",
       "      <td>13778</td>\n",
       "      <td>27</td>\n",
       "      <td>23235</td>\n",
       "    </tr>\n",
       "    <tr>\n",
       "      <th>31</th>\n",
       "      <td>Slovenia</td>\n",
       "      <td>18</td>\n",
       "      <td>10348</td>\n",
       "      <td>18</td>\n",
       "      <td>12563</td>\n",
       "      <td>18</td>\n",
       "      <td>12475</td>\n",
       "      <td>18</td>\n",
       "      <td>6397</td>\n",
       "      <td>18</td>\n",
       "      <td>13823</td>\n",
       "    </tr>\n",
       "    <tr>\n",
       "      <th>32</th>\n",
       "      <td>Latvia</td>\n",
       "      <td>9</td>\n",
       "      <td>2626</td>\n",
       "      <td>18</td>\n",
       "      <td>1316</td>\n",
       "      <td>18</td>\n",
       "      <td>8662</td>\n",
       "      <td>16</td>\n",
       "      <td>4796</td>\n",
       "      <td>27</td>\n",
       "      <td>7023</td>\n",
       "    </tr>\n",
       "    <tr>\n",
       "      <th>33</th>\n",
       "      <td>Iceland</td>\n",
       "      <td>9</td>\n",
       "      <td>1233</td>\n",
       "      <td>9</td>\n",
       "      <td>1326</td>\n",
       "      <td>18</td>\n",
       "      <td>2775</td>\n",
       "      <td>18</td>\n",
       "      <td>4375</td>\n",
       "      <td>18</td>\n",
       "      <td>4614</td>\n",
       "    </tr>\n",
       "    <tr>\n",
       "      <th>34</th>\n",
       "      <td>Croatia</td>\n",
       "      <td>0</td>\n",
       "      <td>4913</td>\n",
       "      <td>9</td>\n",
       "      <td>4910</td>\n",
       "      <td>18</td>\n",
       "      <td>17341</td>\n",
       "      <td>18</td>\n",
       "      <td>16025</td>\n",
       "      <td>18</td>\n",
       "      <td>17641</td>\n",
       "    </tr>\n",
       "    <tr>\n",
       "      <th>35</th>\n",
       "      <td>Luxembourg</td>\n",
       "      <td>9</td>\n",
       "      <td>3898</td>\n",
       "      <td>9</td>\n",
       "      <td>3995</td>\n",
       "      <td>9</td>\n",
       "      <td>2397</td>\n",
       "      <td>9</td>\n",
       "      <td>4455</td>\n",
       "      <td>9</td>\n",
       "      <td>4524</td>\n",
       "    </tr>\n",
       "    <tr>\n",
       "      <th>36</th>\n",
       "      <td>Argentina</td>\n",
       "      <td>3</td>\n",
       "      <td>83844</td>\n",
       "      <td>3</td>\n",
       "      <td>52629</td>\n",
       "      <td>3</td>\n",
       "      <td>44960</td>\n",
       "      <td>15</td>\n",
       "      <td>214467</td>\n",
       "      <td>12</td>\n",
       "      <td>235042</td>\n",
       "    </tr>\n",
       "  </tbody>\n",
       "</table>\n",
       "</div>"
      ],
      "text/plain": [
       "           Country  Number_of_universies_2016  \\\n",
       "0    United States                       1176   \n",
       "1   United Kingdom                        702   \n",
       "2            Japan                        369   \n",
       "3          Germany                        333   \n",
       "4            Italy                        306   \n",
       "5        Australia                        279   \n",
       "6            Spain                        225   \n",
       "7           France                        243   \n",
       "8           Canada                        200   \n",
       "9      Netherlands                        117   \n",
       "10  Czech Republic                         81   \n",
       "11           Chile                         54   \n",
       "12          Mexico                         18   \n",
       "13          Poland                         63   \n",
       "14          Brazil                         51   \n",
       "15          Sweden                         66   \n",
       "16         Finland                         81   \n",
       "17         Ireland                         81   \n",
       "18        Portugal                         56   \n",
       "19         Austria                         63   \n",
       "20         Belgium                         56   \n",
       "21     New Zealand                         56   \n",
       "22         Denmark                         54   \n",
       "23         Hungary                         54   \n",
       "24          Israel                         54   \n",
       "25         Romania                         36   \n",
       "26     Switzerland                         50   \n",
       "27          Norway                         36   \n",
       "28    South Africa                         18   \n",
       "29         Estonia                         18   \n",
       "30       Lithuania                          9   \n",
       "31        Slovenia                         18   \n",
       "32          Latvia                          9   \n",
       "33         Iceland                          9   \n",
       "34         Croatia                          0   \n",
       "35      Luxembourg                          9   \n",
       "36       Argentina                          3   \n",
       "\n",
       "    Total_spending_for_education_2016  Number_of_universies_2017  \\\n",
       "0                           227441017                       1184   \n",
       "1                            23195827                        819   \n",
       "2                            17330359                        621   \n",
       "3                            12670146                        369   \n",
       "4                             5012638                        342   \n",
       "5                             2647269                        315   \n",
       "6                             3510965                        243   \n",
       "7                             7179924                        261   \n",
       "8                             1341412                        208   \n",
       "9                              738562                        117   \n",
       "10                             196433                        108   \n",
       "11                             286532                         90   \n",
       "12                             298970                         63   \n",
       "13                             653741                         81   \n",
       "14                            5066248                         81   \n",
       "15                             506482                         66   \n",
       "16                             237839                         81   \n",
       "17                             141524                         81   \n",
       "18                             133990                         64   \n",
       "19                             307223                         63   \n",
       "20                             371633                         64   \n",
       "21                              36400                         64   \n",
       "22                              43705                         63   \n",
       "23                             138056                         54   \n",
       "24                             163683                         54   \n",
       "25                              68369                         36   \n",
       "26                             242873                         50   \n",
       "27                              83211                         45   \n",
       "28                          234713201                         24   \n",
       "29                               3909                         18   \n",
       "30                               5913                         18   \n",
       "31                              10348                         18   \n",
       "32                               2626                         18   \n",
       "33                               1233                          9   \n",
       "34                               4913                          9   \n",
       "35                               3898                          9   \n",
       "36                              83844                          3   \n",
       "\n",
       "    Total_spending_for_education_2017  Number_of_universies_2018  \\\n",
       "0                           205525415                       1256   \n",
       "1                            28849997                        837   \n",
       "2                            26629370                        801   \n",
       "3                            12641995                        396   \n",
       "4                             6806020                        360   \n",
       "5                             4517048                        315   \n",
       "6                             1790186                        261   \n",
       "7                             7722981                        279   \n",
       "8                             5235073                        208   \n",
       "9                              832619                        117   \n",
       "10                             333230                        117   \n",
       "11                             268115                        117   \n",
       "12                            1276123                         99   \n",
       "13                             757367                        108   \n",
       "14                            4076419                         96   \n",
       "15                             594349                         99   \n",
       "16                             145507                         81   \n",
       "17                             139518                         81   \n",
       "18                             224969                         72   \n",
       "19                             294498                         72   \n",
       "20                             421439                         64   \n",
       "21                              95343                         64   \n",
       "22                             244635                         63   \n",
       "23                              89594                         63   \n",
       "24                              72955                         54   \n",
       "25                              56557                         45   \n",
       "26                             292285                         50   \n",
       "27                             215815                         45   \n",
       "28                             288282                         24   \n",
       "29                               7142                         18   \n",
       "30                              11015                         18   \n",
       "31                              12563                         18   \n",
       "32                               1316                         18   \n",
       "33                               1326                         18   \n",
       "34                               4910                         18   \n",
       "35                               3995                          9   \n",
       "36                              52629                          3   \n",
       "\n",
       "    Total_spending_for_education_2018  Number_of_universies_2019  \\\n",
       "0                           165504643                       1376   \n",
       "1                            35159453                        882   \n",
       "2                            38643822                        927   \n",
       "3                            15744372                        423   \n",
       "4                             7555706                        387   \n",
       "5                             2228417                        315   \n",
       "6                             2478177                        342   \n",
       "7                             6271892                        306   \n",
       "8                             5340535                        216   \n",
       "9                             1274422                        117   \n",
       "10                             105636                        126   \n",
       "11                             762509                        144   \n",
       "12                            2531213                        153   \n",
       "13                            1165206                        108   \n",
       "14                            9537853                        108   \n",
       "15                             550125                         99   \n",
       "16                             116783                         81   \n",
       "17                             117548                         81   \n",
       "18                             198950                        104   \n",
       "19                             341012                         81   \n",
       "20                             436940                         64   \n",
       "21                             170803                         64   \n",
       "22                             241136                         63   \n",
       "23                              95328                         63   \n",
       "24                             167994                         54   \n",
       "25                              77689                         63   \n",
       "26                             292284                         50   \n",
       "27                             187268                         45   \n",
       "28                             602303                         27   \n",
       "29                               2815                         18   \n",
       "30                               7107                         18   \n",
       "31                              12475                         18   \n",
       "32                               8662                         16   \n",
       "33                               2775                         18   \n",
       "34                              17341                         18   \n",
       "35                               2397                          9   \n",
       "36                              44960                         15   \n",
       "\n",
       "    Total_spending_for_education_2019  Number_of_universies_2020  \\\n",
       "0                           174577010                       1376   \n",
       "1                            34827105                        900   \n",
       "2                            45037746                        990   \n",
       "3                            17623446                        432   \n",
       "4                             7969415                        405   \n",
       "5                             2001805                        315   \n",
       "6                             5847813                        405   \n",
       "7                             9751353                        342   \n",
       "8                             4447414                        240   \n",
       "9                             1144857                        117   \n",
       "10                             301402                        153   \n",
       "11                             579732                        162   \n",
       "12                            4025256                        153   \n",
       "13                             785303                        126   \n",
       "14                            5198234                        138   \n",
       "15                             631860                        108   \n",
       "16                             237565                         81   \n",
       "17                              60213                         81   \n",
       "18                             438190                        104   \n",
       "19                             398073                         99   \n",
       "20                             266575                         64   \n",
       "21                              56305                         64   \n",
       "22                             251063                         63   \n",
       "23                             170949                         72   \n",
       "24                             275445                         54   \n",
       "25                              27972                         81   \n",
       "26                             225804                         22   \n",
       "27                             184743                         45   \n",
       "28                             658815                         30   \n",
       "29                               4277                         27   \n",
       "30                              13778                         27   \n",
       "31                               6397                         18   \n",
       "32                               4796                         27   \n",
       "33                               4375                         18   \n",
       "34                              16025                         18   \n",
       "35                               4455                          9   \n",
       "36                             214467                         12   \n",
       "\n",
       "    Total_spending_for_education_2020  \n",
       "0                           149081061  \n",
       "1                            34803988  \n",
       "2                            41930751  \n",
       "3                            18204087  \n",
       "4                             7743098  \n",
       "5                             2045705  \n",
       "6                             7516514  \n",
       "7                            10330891  \n",
       "8                             6066336  \n",
       "9                             1046277  \n",
       "10                             369493  \n",
       "11                            1016917  \n",
       "12                            2069058  \n",
       "13                            1014869  \n",
       "14                           10711945  \n",
       "15                             604860  \n",
       "16                             123054  \n",
       "17                             237190  \n",
       "18                             373310  \n",
       "19                             238499  \n",
       "20                             252026  \n",
       "21                             160751  \n",
       "22                             216124  \n",
       "23                              44641  \n",
       "24                             160192  \n",
       "25                             121816  \n",
       "26                              23742  \n",
       "27                             228170  \n",
       "28                             519806  \n",
       "29                              11773  \n",
       "30                              23235  \n",
       "31                              13823  \n",
       "32                               7023  \n",
       "33                               4614  \n",
       "34                              17641  \n",
       "35                               4524  \n",
       "36                             235042  "
      ]
     },
     "execution_count": 7,
     "metadata": {},
     "output_type": "execute_result"
    }
   ],
   "source": [
    "df_spending_per_country.head(50)"
   ]
  },
  {
   "cell_type": "code",
   "execution_count": 8,
   "id": "d51806ce",
   "metadata": {},
   "outputs": [
    {
     "data": {
      "text/plain": [
       "(37, 11)"
      ]
     },
     "execution_count": 8,
     "metadata": {},
     "output_type": "execute_result"
    }
   ],
   "source": [
    "df_spending_per_country.shape"
   ]
  },
  {
   "cell_type": "markdown",
   "id": "bbf70959",
   "metadata": {},
   "source": [
    "##### Missing values"
   ]
  },
  {
   "cell_type": "code",
   "execution_count": 9,
   "id": "76803959",
   "metadata": {},
   "outputs": [
    {
     "data": {
      "text/plain": [
       "Country                              0\n",
       "Number_of_universies_2016            0\n",
       "Total_spending_for_education_2016    0\n",
       "Number_of_universies_2017            0\n",
       "Total_spending_for_education_2017    0\n",
       "Number_of_universies_2018            0\n",
       "Total_spending_for_education_2018    0\n",
       "Number_of_universies_2019            0\n",
       "Total_spending_for_education_2019    0\n",
       "Number_of_universies_2020            0\n",
       "Total_spending_for_education_2020    0\n",
       "dtype: int64"
      ]
     },
     "execution_count": 9,
     "metadata": {},
     "output_type": "execute_result"
    }
   ],
   "source": [
    "# Check for missing values\n",
    "\n",
    "df_spending_per_country.isnull().sum()"
   ]
  },
  {
   "cell_type": "code",
   "execution_count": 10,
   "id": "3f903a0d",
   "metadata": {},
   "outputs": [],
   "source": [
    "# Duplicates check\n",
    "dups = df_spending_per_country.duplicated()"
   ]
  },
  {
   "cell_type": "code",
   "execution_count": 11,
   "id": "326a4aee",
   "metadata": {},
   "outputs": [
    {
     "data": {
      "text/plain": [
       "(37,)"
      ]
     },
     "execution_count": 11,
     "metadata": {},
     "output_type": "execute_result"
    }
   ],
   "source": [
    "dups.shape # No dups"
   ]
  },
  {
   "cell_type": "markdown",
   "id": "92f12c22",
   "metadata": {},
   "source": [
    "### Extreme values checks"
   ]
  },
  {
   "cell_type": "code",
   "execution_count": 12,
   "id": "424ba21c",
   "metadata": {},
   "outputs": [
    {
     "name": "stderr",
     "output_type": "stream",
     "text": [
      "C:\\Users\\pklet\\AppData\\Local\\Temp\\ipykernel_19252\\3985856578.py:1: UserWarning:\n",
      "\n",
      "\n",
      "\n",
      "`distplot` is a deprecated function and will be removed in seaborn v0.14.0.\n",
      "\n",
      "Please adapt your code to use either `displot` (a figure-level function with\n",
      "similar flexibility) or `histplot` (an axes-level function for histograms).\n",
      "\n",
      "For a guide to updating your code to use the new functions, please see\n",
      "https://gist.github.com/mwaskom/de44147ed2974457ad6372750bbe5751\n",
      "\n",
      "\n"
     ]
    },
    {
     "data": {
      "text/plain": [
       "<Axes: xlabel='Total_spending_for_education_2020', ylabel='Density'>"
      ]
     },
     "execution_count": 12,
     "metadata": {},
     "output_type": "execute_result"
    },
    {
     "data": {
      "image/png": "[encoded data removed]",
      "text/plain": [
       "<Figure size 640x480 with 1 Axes>"
      ]
     },
     "metadata": {},
     "output_type": "display_data"
    }
   ],
   "source": [
    "sns.distplot(df_spending_per_country['Total_spending_for_education_2020'], bins=25) # Shows extreme values"
   ]
  },
  {
   "cell_type": "markdown",
   "id": "23843cd2",
   "metadata": {},
   "source": [
    "#### Some of the outliers in the high values may need to be removed, but let's try without doing so first"
   ]
  },
  {
   "cell_type": "code",
   "execution_count": 13,
   "id": "dca4810f",
   "metadata": {},
   "outputs": [
    {
     "data": {
      "text/plain": [
       "8042509.3513513515"
      ]
     },
     "execution_count": 13,
     "metadata": {},
     "output_type": "execute_result"
    }
   ],
   "source": [
    "df_spending_per_country['Total_spending_for_education_2020'].mean() # Check the mean"
   ]
  },
  {
   "cell_type": "code",
   "execution_count": 14,
   "id": "fcc1eeaa",
   "metadata": {},
   "outputs": [
    {
     "data": {
      "text/plain": [
       "252026.0"
      ]
     },
     "execution_count": 14,
     "metadata": {},
     "output_type": "execute_result"
    }
   ],
   "source": [
    "df_spending_per_country['Total_spending_for_education_2020'].median() # Check the median"
   ]
  },
  {
   "cell_type": "code",
   "execution_count": 15,
   "id": "ea356461",
   "metadata": {},
   "outputs": [
    {
     "data": {
      "text/plain": [
       "149081061"
      ]
     },
     "execution_count": 15,
     "metadata": {},
     "output_type": "execute_result"
    }
   ],
   "source": [
    "df_spending_per_country['Total_spending_for_education_2020'].max() # Check the max"
   ]
  },
  {
   "cell_type": "markdown",
   "id": "7203786c",
   "metadata": {},
   "source": [
    "### 3. Data prep for regression analysis"
   ]
  },
  {
   "cell_type": "code",
   "execution_count": 16,
   "id": "32b246eb",
   "metadata": {},
   "outputs": [
    {
     "data": {
      "image/png": "[encoded data removed]",
      "text/plain": [
       "<Figure size 640x480 with 1 Axes>"
      ]
     },
     "metadata": {},
     "output_type": "display_data"
    }
   ],
   "source": [
    "# Create a scatterplot using matplotlib for another look at how the chosen variables plot against each other.\n",
    "\n",
    "df_spending_per_country.plot(x = 'Total_spending_for_education_2020', y='Number_of_universies_2020',  style='o') \n",
    "plt.title('Number of top 200 Universities vs. Total spending for education - 2020')\n",
    "plt.xlabel('Total spending for education - 2020 in $ milions')\n",
    "plt.ylabel('Number of universities in top 200')\n",
    "plt.show()"
   ]
  },
  {
   "cell_type": "code",
   "execution_count": 17,
   "id": "8a2a1995",
   "metadata": {},
   "outputs": [],
   "source": [
    "# Reshape the variables into NumPy arrays and put them into separate objects.\n",
    "\n",
    "X = df_spending_per_country['Total_spending_for_education_2020'].values.reshape(-1,1)\n",
    "y = df_spending_per_country['Number_of_universies_2020'].values.reshape(-1,1)"
   ]
  },
  {
   "cell_type": "code",
   "execution_count": 18,
   "id": "93b5a444",
   "metadata": {},
   "outputs": [
    {
     "data": {
      "text/plain": [
       "array([[149081061],\n",
       "       [ 34803988],\n",
       "       [ 41930751],\n",
       "       [ 18204087],\n",
       "       [  7743098],\n",
       "       [  2045705],\n",
       "       [  7516514],\n",
       "       [ 10330891],\n",
       "       [  6066336],\n",
       "       [  1046277],\n",
       "       [   369493],\n",
       "       [  1016917],\n",
       "       [  2069058],\n",
       "       [  1014869],\n",
       "       [ 10711945],\n",
       "       [   604860],\n",
       "       [   123054],\n",
       "       [   237190],\n",
       "       [   373310],\n",
       "       [   238499],\n",
       "       [   252026],\n",
       "       [   160751],\n",
       "       [   216124],\n",
       "       [    44641],\n",
       "       [   160192],\n",
       "       [   121816],\n",
       "       [    23742],\n",
       "       [   228170],\n",
       "       [   519806],\n",
       "       [    11773],\n",
       "       [    23235],\n",
       "       [    13823],\n",
       "       [     7023],\n",
       "       [     4614],\n",
       "       [    17641],\n",
       "       [     4524],\n",
       "       [   235042]], dtype=int64)"
      ]
     },
     "execution_count": 18,
     "metadata": {},
     "output_type": "execute_result"
    }
   ],
   "source": [
    "X"
   ]
  },
  {
   "cell_type": "code",
   "execution_count": 19,
   "id": "0af428bd",
   "metadata": {},
   "outputs": [
    {
     "data": {
      "text/plain": [
       "array([[1376],\n",
       "       [ 900],\n",
       "       [ 990],\n",
       "       [ 432],\n",
       "       [ 405],\n",
       "       [ 315],\n",
       "       [ 405],\n",
       "       [ 342],\n",
       "       [ 240],\n",
       "       [ 117],\n",
       "       [ 153],\n",
       "       [ 162],\n",
       "       [ 153],\n",
       "       [ 126],\n",
       "       [ 138],\n",
       "       [ 108],\n",
       "       [  81],\n",
       "       [  81],\n",
       "       [ 104],\n",
       "       [  99],\n",
       "       [  64],\n",
       "       [  64],\n",
       "       [  63],\n",
       "       [  72],\n",
       "       [  54],\n",
       "       [  81],\n",
       "       [  22],\n",
       "       [  45],\n",
       "       [  30],\n",
       "       [  27],\n",
       "       [  27],\n",
       "       [  18],\n",
       "       [  27],\n",
       "       [  18],\n",
       "       [  18],\n",
       "       [   9],\n",
       "       [  12]], dtype=int64)"
      ]
     },
     "execution_count": 19,
     "metadata": {},
     "output_type": "execute_result"
    }
   ],
   "source": [
    "y"
   ]
  },
  {
   "cell_type": "code",
   "execution_count": 20,
   "id": "7332a4e1",
   "metadata": {},
   "outputs": [],
   "source": [
    "# Split data into a training set and a test set\n",
    "X_train, X_test, y_train, y_test = train_test_split(X, y, test_size=0.3, random_state=0)"
   ]
  },
  {
   "cell_type": "markdown",
   "id": "df09272e",
   "metadata": {},
   "source": [
    "### 4. Regression analysis"
   ]
  },
  {
   "cell_type": "code",
   "execution_count": 21,
   "id": "87b21f9f",
   "metadata": {},
   "outputs": [],
   "source": [
    "# Create a regression object.\n",
    "\n",
    "regression = LinearRegression()  # This is the regression object, which will be fit onto the training set."
   ]
  },
  {
   "cell_type": "code",
   "execution_count": 22,
   "id": "5e9f661e",
   "metadata": {},
   "outputs": [
    {
     "data": {
      "text/html": [
       "<style>#sk-container-id-1 {color: black;}#sk-container-id-1 pre{padding: 0;}#sk-container-id-1 div.sk-toggleable {background-color: white;}#sk-container-id-1 label.sk-toggleable__label {cursor: pointer;display: block;width: 100%;margin-bottom: 0;padding: 0.3em;box-sizing: border-box;text-align: center;}#sk-container-id-1 label.sk-toggleable__label-arrow:before {content: \"▸\";float: left;margin-right: 0.25em;color: #696969;}#sk-container-id-1 label.sk-toggleable__label-arrow:hover:before {color: black;}#sk-container-id-1 div.sk-estimator:hover label.sk-toggleable__label-arrow:before {color: black;}#sk-container-id-1 div.sk-toggleable__content {max-height: 0;max-width: 0;overflow: hidden;text-align: left;background-color: #f0f8ff;}#sk-container-id-1 div.sk-toggleable__content pre {margin: 0.2em;color: black;border-radius: 0.25em;background-color: #f0f8ff;}#sk-container-id-1 input.sk-toggleable__control:checked~div.sk-toggleable__content {max-height: 200px;max-width: 100%;overflow: auto;}#sk-container-id-1 input.sk-toggleable__control:checked~label.sk-toggleable__label-arrow:before {content: \"▾\";}#sk-container-id-1 div.sk-estimator input.sk-toggleable__control:checked~label.sk-toggleable__label {background-color: #d4ebff;}#sk-container-id-1 div.sk-label input.sk-toggleable__control:checked~label.sk-toggleable__label {background-color: #d4ebff;}#sk-container-id-1 input.sk-hidden--visually {border: 0;clip: rect(1px 1px 1px 1px);clip: rect(1px, 1px, 1px, 1px);height: 1px;margin: -1px;overflow: hidden;padding: 0;position: absolute;width: 1px;}#sk-container-id-1 div.sk-estimator {font-family: monospace;background-color: #f0f8ff;border: 1px dotted black;border-radius: 0.25em;box-sizing: border-box;margin-bottom: 0.5em;}#sk-container-id-1 div.sk-estimator:hover {background-color: #d4ebff;}#sk-container-id-1 div.sk-parallel-item::after {content: \"\";width: 100%;border-bottom: 1px solid gray;flex-grow: 1;}#sk-container-id-1 div.sk-label:hover label.sk-toggleable__label {background-color: #d4ebff;}#sk-container-id-1 div.sk-serial::before {content: \"\";position: absolute;border-left: 1px solid gray;box-sizing: border-box;top: 0;bottom: 0;left: 50%;z-index: 0;}#sk-container-id-1 div.sk-serial {display: flex;flex-direction: column;align-items: center;background-color: white;padding-right: 0.2em;padding-left: 0.2em;position: relative;}#sk-container-id-1 div.sk-item {position: relative;z-index: 1;}#sk-container-id-1 div.sk-parallel {display: flex;align-items: stretch;justify-content: center;background-color: white;position: relative;}#sk-container-id-1 div.sk-item::before, #sk-container-id-1 div.sk-parallel-item::before {content: \"\";position: absolute;border-left: 1px solid gray;box-sizing: border-box;top: 0;bottom: 0;left: 50%;z-index: -1;}#sk-container-id-1 div.sk-parallel-item {display: flex;flex-direction: column;z-index: 1;position: relative;background-color: white;}#sk-container-id-1 div.sk-parallel-item:first-child::after {align-self: flex-end;width: 50%;}#sk-container-id-1 div.sk-parallel-item:last-child::after {align-self: flex-start;width: 50%;}#sk-container-id-1 div.sk-parallel-item:only-child::after {width: 0;}#sk-container-id-1 div.sk-dashed-wrapped {border: 1px dashed gray;margin: 0 0.4em 0.5em 0.4em;box-sizing: border-box;padding-bottom: 0.4em;background-color: white;}#sk-container-id-1 div.sk-label label {font-family: monospace;font-weight: bold;display: inline-block;line-height: 1.2em;}#sk-container-id-1 div.sk-label-container {text-align: center;}#sk-container-id-1 div.sk-container {/* jupyter's `normalize.less` sets `[hidden] { display: none; }` but bootstrap.min.css set `[hidden] { display: none !important; }` so we also need the `!important` here to be able to override the default hidden behavior on the sphinx rendered scikit-learn.org. See: https://github.com/scikit-learn/scikit-learn/issues/21755 */display: inline-block !important;position: relative;}#sk-container-id-1 div.sk-text-repr-fallback {display: none;}</style><div id=\"sk-container-id-1\" class=\"sk-top-container\"><div class=\"sk-text-repr-fallback\"><pre>LinearRegression()</pre><b>In a Jupyter environment, please rerun this cell to show the HTML representation or trust the notebook. <br />On GitHub, the HTML representation is unable to render, please try loading this page with nbviewer.org.</b></div><div class=\"sk-container\" hidden><div class=\"sk-item\"><div class=\"sk-estimator sk-toggleable\"><input class=\"sk-toggleable__control sk-hidden--visually\" id=\"sk-estimator-id-1\" type=\"checkbox\" checked><label for=\"sk-estimator-id-1\" class=\"sk-toggleable__label sk-toggleable__label-arrow\">LinearRegression</label><div class=\"sk-toggleable__content\"><pre>LinearRegression()</pre></div></div></div></div></div>"
      ],
      "text/plain": [
       "LinearRegression()"
      ]
     },
     "execution_count": 22,
     "metadata": {},
     "output_type": "execute_result"
    }
   ],
   "source": [
    "# Fit the regression object onto the training set.\n",
    "\n",
    "regression.fit(X_train, y_train)"
   ]
  },
  {
   "cell_type": "code",
   "execution_count": 23,
   "id": "c1cc09a0",
   "metadata": {},
   "outputs": [],
   "source": [
    "# Predict the values of y using X.\n",
    "\n",
    "y_predicted = regression.predict(X_test)"
   ]
  },
  {
   "cell_type": "code",
   "execution_count": 24,
   "id": "3f3a3cb1",
   "metadata": {},
   "outputs": [
    {
     "data": {
      "image/png": "[encoded data removed]",
      "text/plain": [
       "<Figure size 640x480 with 1 Axes>"
      ]
     },
     "metadata": {},
     "output_type": "display_data"
    }
   ],
   "source": [
    "# Create a plot that shows the regression line from the model on the test set.\n",
    "\n",
    "plot_test = plt\n",
    "plot_test.scatter(X_test, y_test, color='gray', s = 15)\n",
    "plot_test.plot(X_test, y_predicted, color='red', linewidth =3)\n",
    "plot_test.title('Total spending for education - 2020 in $ milions(Test set)')\n",
    "plot_test.xlabel('Total_spending_for_education_2020')\n",
    "plot_test.ylabel('Number_of_universies_2020')\n",
    "plot_test.show()"
   ]
  },
  {
   "cell_type": "code",
   "execution_count": 25,
   "id": "49993a2c",
   "metadata": {},
   "outputs": [],
   "source": [
    "# Create objects that contain the model summary statistics.\n",
    "\n",
    "rmse = mean_squared_error(y_test, y_predicted) # This is the mean squared error.\n",
    "r2 = r2_score(y_test, y_predicted) # This is the R2 score."
   ]
  },
  {
   "cell_type": "code",
   "execution_count": 26,
   "id": "8c75488a",
   "metadata": {},
   "outputs": [
    {
     "name": "stdout",
     "output_type": "stream",
     "text": [
      "Slope: [[9.35072961e-06]]\n",
      "Mean squared error:  23285.118681288626\n",
      "R2 score:  0.6481213705480647\n"
     ]
    }
   ],
   "source": [
    "# Print the model summary statistics. This is where you evaluate the performance of the model.\n",
    "print('Slope:' ,regression.coef_)\n",
    "print('Mean squared error: ', rmse)\n",
    "print('R2 score: ', r2)"
   ]
  },
  {
   "cell_type": "code",
   "execution_count": 27,
   "id": "ec2d633e",
   "metadata": {},
   "outputs": [
    {
     "data": {
      "text/plain": [
       "array([[130.58570639],\n",
       "       [130.92141628],\n",
       "       [129.71543398],\n",
       "       [132.01981844],\n",
       "       [128.69404444],\n",
       "       [133.42535466],\n",
       "       [134.22067161],\n",
       "       [138.0737052 ],\n",
       "       [520.64790418],\n",
       "       [129.70385778],\n",
       "       [128.78205351],\n",
       "       [128.63045948]])"
      ]
     },
     "execution_count": 27,
     "metadata": {},
     "output_type": "execute_result"
    }
   ],
   "source": [
    "y_predicted"
   ]
  },
  {
   "cell_type": "code",
   "execution_count": 28,
   "id": "a6584454",
   "metadata": {},
   "outputs": [
    {
     "data": {
      "text/html": [
       "<div>\n",
       "<style scoped>\n",
       "    .dataframe tbody tr th:only-of-type {\n",
       "        vertical-align: middle;\n",
       "    }\n",
       "\n",
       "    .dataframe tbody tr th {\n",
       "        vertical-align: top;\n",
       "    }\n",
       "\n",
       "    .dataframe thead th {\n",
       "        text-align: right;\n",
       "    }\n",
       "</style>\n",
       "<table border=\"1\" class=\"dataframe\">\n",
       "  <thead>\n",
       "    <tr style=\"text-align: right;\">\n",
       "      <th></th>\n",
       "      <th>Actual</th>\n",
       "      <th>Predicted</th>\n",
       "    </tr>\n",
       "  </thead>\n",
       "  <tbody>\n",
       "    <tr>\n",
       "      <th>0</th>\n",
       "      <td>63</td>\n",
       "      <td>130.585706</td>\n",
       "    </tr>\n",
       "    <tr>\n",
       "      <th>1</th>\n",
       "      <td>64</td>\n",
       "      <td>130.921416</td>\n",
       "    </tr>\n",
       "    <tr>\n",
       "      <th>2</th>\n",
       "      <td>81</td>\n",
       "      <td>129.715434</td>\n",
       "    </tr>\n",
       "    <tr>\n",
       "      <th>3</th>\n",
       "      <td>153</td>\n",
       "      <td>132.019818</td>\n",
       "    </tr>\n",
       "    <tr>\n",
       "      <th>4</th>\n",
       "      <td>18</td>\n",
       "      <td>128.694044</td>\n",
       "    </tr>\n",
       "    <tr>\n",
       "      <th>5</th>\n",
       "      <td>30</td>\n",
       "      <td>133.425355</td>\n",
       "    </tr>\n",
       "    <tr>\n",
       "      <th>6</th>\n",
       "      <td>108</td>\n",
       "      <td>134.220672</td>\n",
       "    </tr>\n",
       "    <tr>\n",
       "      <th>7</th>\n",
       "      <td>162</td>\n",
       "      <td>138.073705</td>\n",
       "    </tr>\n",
       "    <tr>\n",
       "      <th>8</th>\n",
       "      <td>990</td>\n",
       "      <td>520.647904</td>\n",
       "    </tr>\n",
       "    <tr>\n",
       "      <th>9</th>\n",
       "      <td>81</td>\n",
       "      <td>129.703858</td>\n",
       "    </tr>\n",
       "    <tr>\n",
       "      <th>10</th>\n",
       "      <td>27</td>\n",
       "      <td>128.782054</td>\n",
       "    </tr>\n",
       "    <tr>\n",
       "      <th>11</th>\n",
       "      <td>27</td>\n",
       "      <td>128.630459</td>\n",
       "    </tr>\n",
       "  </tbody>\n",
       "</table>\n",
       "</div>"
      ],
      "text/plain": [
       "    Actual   Predicted\n",
       "0       63  130.585706\n",
       "1       64  130.921416\n",
       "2       81  129.715434\n",
       "3      153  132.019818\n",
       "4       18  128.694044\n",
       "5       30  133.425355\n",
       "6      108  134.220672\n",
       "7      162  138.073705\n",
       "8      990  520.647904\n",
       "9       81  129.703858\n",
       "10      27  128.782054\n",
       "11      27  128.630459"
      ]
     },
     "execution_count": 28,
     "metadata": {},
     "output_type": "execute_result"
    }
   ],
   "source": [
    "# Create a dataframe comparing the actual and predicted values of y.\n",
    "data = pd.DataFrame({'Actual': y_test.flatten(), 'Predicted': y_predicted.flatten()})\n",
    "data.head(30)"
   ]
  },
  {
   "cell_type": "markdown",
   "id": "9fcac224",
   "metadata": {},
   "source": [
    "### Compare how the regression fits the training set"
   ]
  },
  {
   "cell_type": "code",
   "execution_count": 29,
   "id": "f29f18d8",
   "metadata": {},
   "outputs": [],
   "source": [
    "# Predict.\n",
    "\n",
    "y_predicted_train = regression.predict(X_train) # This is predicting X_train!"
   ]
  },
  {
   "cell_type": "code",
   "execution_count": 30,
   "id": "3c8fe90d",
   "metadata": {},
   "outputs": [],
   "source": [
    "rmse = mean_squared_error(y_train, y_predicted_train)\n",
    "\n",
    "r2 = r2_score(y_train, y_predicted_train)"
   ]
  },
  {
   "cell_type": "code",
   "execution_count": 31,
   "id": "869a897b",
   "metadata": {},
   "outputs": [
    {
     "name": "stdout",
     "output_type": "stream",
     "text": [
      "Slope: [[9.35072961e-06]]\n",
      "Mean squared error:  19017.064271996518\n",
      "R2 score:  0.7989367951530828\n"
     ]
    }
   ],
   "source": [
    "print('Slope:' ,regression.coef_)\n",
    "print('Mean squared error: ', rmse)\n",
    "print('R2 score: ', r2)"
   ]
  },
  {
   "cell_type": "code",
   "execution_count": 32,
   "id": "a699651d",
   "metadata": {},
   "outputs": [
    {
     "data": {
      "image/png": "[encoded data removed]",
      "text/plain": [
       "<Figure size 640x480 with 1 Axes>"
      ]
     },
     "metadata": {},
     "output_type": "display_data"
    }
   ],
   "source": [
    "# Visualizing the training set results.\n",
    "\n",
    "plot_test = plt\n",
    "plot_test.scatter(X_train, y_train, color='green', s = 15)\n",
    "plot_test.plot(X_train, y_predicted_train, color='red', linewidth =3)\n",
    "plot_test.title('Total spending for education - 2020 in $ milions (Train set)')\n",
    "plot_test.xlabel('Total_spending_for_education_2020')\n",
    "plot_test.ylabel('Number_of_universies_2020')\n",
    "plot_test.show()"
   ]
  },
  {
   "cell_type": "markdown",
   "id": "d12ce4f1",
   "metadata": {},
   "source": [
    "### Removing outliers"
   ]
  },
  {
   "cell_type": "code",
   "execution_count": 33,
   "id": "c78fde04",
   "metadata": {},
   "outputs": [],
   "source": [
    "# Clean the extreme values from the \"Total_spending_for_education_2020\" variable observed during the consistency checks.\n",
    "\n",
    "df_test = df_spending_per_country[df_spending_per_country['Total_spending_for_education_2020'] <=100000000]"
   ]
  },
  {
   "cell_type": "code",
   "execution_count": 35,
   "id": "86972cc6",
   "metadata": {},
   "outputs": [
    {
     "ename": "KeyError",
     "evalue": "'D. metro'",
     "output_type": "error",
     "traceback": [
      "\u001b[1;31m---------------------------------------------------------------------------\u001b[0m",
      "\u001b[1;31mKeyError\u001b[0m                                  Traceback (most recent call last)",
      "File \u001b[1;32m~\\anaconda3\\Lib\\site-packages\\pandas\\core\\indexes\\base.py:3802\u001b[0m, in \u001b[0;36mIndex.get_loc\u001b[1;34m(self, key, method, tolerance)\u001b[0m\n\u001b[0;32m   3801\u001b[0m \u001b[38;5;28;01mtry\u001b[39;00m:\n\u001b[1;32m-> 3802\u001b[0m     \u001b[38;5;28;01mreturn\u001b[39;00m \u001b[38;5;28mself\u001b[39m\u001b[38;5;241m.\u001b[39m_engine\u001b[38;5;241m.\u001b[39mget_loc(casted_key)\n\u001b[0;32m   3803\u001b[0m \u001b[38;5;28;01mexcept\u001b[39;00m \u001b[38;5;167;01mKeyError\u001b[39;00m \u001b[38;5;28;01mas\u001b[39;00m err:\n",
      "File \u001b[1;32m~\\anaconda3\\Lib\\site-packages\\pandas\\_libs\\index.pyx:138\u001b[0m, in \u001b[0;36mpandas._libs.index.IndexEngine.get_loc\u001b[1;34m()\u001b[0m\n",
      "File \u001b[1;32m~\\anaconda3\\Lib\\site-packages\\pandas\\_libs\\index.pyx:165\u001b[0m, in \u001b[0;36mpandas._libs.index.IndexEngine.get_loc\u001b[1;34m()\u001b[0m\n",
      "File \u001b[1;32mpandas\\_libs\\hashtable_class_helper.pxi:5745\u001b[0m, in \u001b[0;36mpandas._libs.hashtable.PyObjectHashTable.get_item\u001b[1;34m()\u001b[0m\n",
      "File \u001b[1;32mpandas\\_libs\\hashtable_class_helper.pxi:5753\u001b[0m, in \u001b[0;36mpandas._libs.hashtable.PyObjectHashTable.get_item\u001b[1;34m()\u001b[0m\n",
      "\u001b[1;31mKeyError\u001b[0m: 'D. metro'",
      "\nThe above exception was the direct cause of the following exception:\n",
      "\u001b[1;31mKeyError\u001b[0m                                  Traceback (most recent call last)",
      "Cell \u001b[1;32mIn[35], line 3\u001b[0m\n\u001b[0;32m      1\u001b[0m \u001b[38;5;66;03m# See how the scatterplot looks without outliers.\u001b[39;00m\n\u001b[1;32m----> 3\u001b[0m df_test\u001b[38;5;241m.\u001b[39mplot(x \u001b[38;5;241m=\u001b[39m \u001b[38;5;124m'\u001b[39m\u001b[38;5;124mD. metro\u001b[39m\u001b[38;5;124m'\u001b[39m, y\u001b[38;5;241m=\u001b[39m\u001b[38;5;124m'\u001b[39m\u001b[38;5;124mPrice per unit\u001b[39m\u001b[38;5;124m'\u001b[39m, style\u001b[38;5;241m=\u001b[39m\u001b[38;5;124m'\u001b[39m\u001b[38;5;124mo\u001b[39m\u001b[38;5;124m'\u001b[39m)\n\u001b[0;32m      4\u001b[0m plt\u001b[38;5;241m.\u001b[39mtitle(\u001b[38;5;124m'\u001b[39m\u001b[38;5;124mDistance to metro vs Price per unit\u001b[39m\u001b[38;5;124m'\u001b[39m)\n\u001b[0;32m      5\u001b[0m plt\u001b[38;5;241m.\u001b[39mxlabel(\u001b[38;5;124m'\u001b[39m\u001b[38;5;124mD. metro\u001b[39m\u001b[38;5;124m'\u001b[39m) \n",
      "File \u001b[1;32m~\\anaconda3\\Lib\\site-packages\\pandas\\plotting\\_core.py:965\u001b[0m, in \u001b[0;36mPlotAccessor.__call__\u001b[1;34m(self, *args, **kwargs)\u001b[0m\n\u001b[0;32m    963\u001b[0m \u001b[38;5;28;01mif\u001b[39;00m is_integer(x) \u001b[38;5;129;01mand\u001b[39;00m \u001b[38;5;129;01mnot\u001b[39;00m data\u001b[38;5;241m.\u001b[39mcolumns\u001b[38;5;241m.\u001b[39mholds_integer():\n\u001b[0;32m    964\u001b[0m     x \u001b[38;5;241m=\u001b[39m data_cols[x]\n\u001b[1;32m--> 965\u001b[0m \u001b[38;5;28;01melif\u001b[39;00m \u001b[38;5;129;01mnot\u001b[39;00m \u001b[38;5;28misinstance\u001b[39m(data[x], ABCSeries):\n\u001b[0;32m    966\u001b[0m     \u001b[38;5;28;01mraise\u001b[39;00m \u001b[38;5;167;01mValueError\u001b[39;00m(\u001b[38;5;124m\"\u001b[39m\u001b[38;5;124mx must be a label or position\u001b[39m\u001b[38;5;124m\"\u001b[39m)\n\u001b[0;32m    967\u001b[0m data \u001b[38;5;241m=\u001b[39m data\u001b[38;5;241m.\u001b[39mset_index(x)\n",
      "File \u001b[1;32m~\\anaconda3\\Lib\\site-packages\\pandas\\core\\frame.py:3807\u001b[0m, in \u001b[0;36mDataFrame.__getitem__\u001b[1;34m(self, key)\u001b[0m\n\u001b[0;32m   3805\u001b[0m \u001b[38;5;28;01mif\u001b[39;00m \u001b[38;5;28mself\u001b[39m\u001b[38;5;241m.\u001b[39mcolumns\u001b[38;5;241m.\u001b[39mnlevels \u001b[38;5;241m>\u001b[39m \u001b[38;5;241m1\u001b[39m:\n\u001b[0;32m   3806\u001b[0m     \u001b[38;5;28;01mreturn\u001b[39;00m \u001b[38;5;28mself\u001b[39m\u001b[38;5;241m.\u001b[39m_getitem_multilevel(key)\n\u001b[1;32m-> 3807\u001b[0m indexer \u001b[38;5;241m=\u001b[39m \u001b[38;5;28mself\u001b[39m\u001b[38;5;241m.\u001b[39mcolumns\u001b[38;5;241m.\u001b[39mget_loc(key)\n\u001b[0;32m   3808\u001b[0m \u001b[38;5;28;01mif\u001b[39;00m is_integer(indexer):\n\u001b[0;32m   3809\u001b[0m     indexer \u001b[38;5;241m=\u001b[39m [indexer]\n",
      "File \u001b[1;32m~\\anaconda3\\Lib\\site-packages\\pandas\\core\\indexes\\base.py:3804\u001b[0m, in \u001b[0;36mIndex.get_loc\u001b[1;34m(self, key, method, tolerance)\u001b[0m\n\u001b[0;32m   3802\u001b[0m     \u001b[38;5;28;01mreturn\u001b[39;00m \u001b[38;5;28mself\u001b[39m\u001b[38;5;241m.\u001b[39m_engine\u001b[38;5;241m.\u001b[39mget_loc(casted_key)\n\u001b[0;32m   3803\u001b[0m \u001b[38;5;28;01mexcept\u001b[39;00m \u001b[38;5;167;01mKeyError\u001b[39;00m \u001b[38;5;28;01mas\u001b[39;00m err:\n\u001b[1;32m-> 3804\u001b[0m     \u001b[38;5;28;01mraise\u001b[39;00m \u001b[38;5;167;01mKeyError\u001b[39;00m(key) \u001b[38;5;28;01mfrom\u001b[39;00m \u001b[38;5;21;01merr\u001b[39;00m\n\u001b[0;32m   3805\u001b[0m \u001b[38;5;28;01mexcept\u001b[39;00m \u001b[38;5;167;01mTypeError\u001b[39;00m:\n\u001b[0;32m   3806\u001b[0m     \u001b[38;5;66;03m# If we have a listlike key, _check_indexing_error will raise\u001b[39;00m\n\u001b[0;32m   3807\u001b[0m     \u001b[38;5;66;03m#  InvalidIndexError. Otherwise we fall through and re-raise\u001b[39;00m\n\u001b[0;32m   3808\u001b[0m     \u001b[38;5;66;03m#  the TypeError.\u001b[39;00m\n\u001b[0;32m   3809\u001b[0m     \u001b[38;5;28mself\u001b[39m\u001b[38;5;241m.\u001b[39m_check_indexing_error(key)\n",
      "\u001b[1;31mKeyError\u001b[0m: 'D. metro'"
     ]
    }
   ],
   "source": [
    "# See how the scatterplot looks without outliers.\n",
    "\n",
    "df_test.plot(x = 'D. metro', y='Price per unit', style='o')\n",
    "plt.title('Distance to metro vs Price per unit')\n",
    "plt.xlabel('D. metro') \n",
    "plt.ylabel('Price per unit')  \n",
    "plt.show()"
   ]
  },
  {
   "cell_type": "code",
   "execution_count": null,
   "id": "7f62a9c3",
   "metadata": {},
   "outputs": [],
   "source": [
    "df_test.plot(x = 'Total_spending_for_education_2020', y='Number_of_universies_2020',  style='o') \n",
    "plt.title('Number of top 200 Universities vs. Total spending for education - 2020')\n",
    "plt.xlabel('Total spending for education - 2020 in $ milions')\n",
    "plt.ylabel('Number of universities in top 200')\n",
    "plt.show()"
   ]
  },
  {
   "cell_type": "code",
   "execution_count": null,
   "id": "4967ae00",
   "metadata": {},
   "outputs": [],
   "source": [
    "# Reshape again.\n",
    "\n",
    "X_2 = df_test['Total_spending_for_education_2020'].values.reshape(-1,1)\n",
    "y_2 = df_test['Number_of_universies_2020'].values.reshape(-1,1)"
   ]
  },
  {
   "cell_type": "code",
   "execution_count": null,
   "id": "31c00e90",
   "metadata": {},
   "outputs": [],
   "source": [
    "X_train_2, X_test_2, y_train_2, y_test_2 = train_test_split(X_2, y_2, test_size=0.3, random_state=0)"
   ]
  },
  {
   "cell_type": "code",
   "execution_count": null,
   "id": "4b255435",
   "metadata": {},
   "outputs": [],
   "source": [
    "# Run and fit the regression.\n",
    "\n",
    "regression = LinearRegression() \n",
    "regression.fit(X_train_2, y_train_2)"
   ]
  },
  {
   "cell_type": "code",
   "execution_count": null,
   "id": "49ecee56",
   "metadata": {},
   "outputs": [],
   "source": [
    "# Predict.\n",
    "\n",
    "y_predicted_2 = regression.predict(X_test_2)"
   ]
  },
  {
   "cell_type": "code",
   "execution_count": null,
   "id": "650dc773",
   "metadata": {},
   "outputs": [],
   "source": [
    "rmse = mean_squared_error(y_test_2, y_predicted_2)\n",
    "r2 = r2_score(y_test_2, y_predicted_2)"
   ]
  },
  {
   "cell_type": "code",
   "execution_count": null,
   "id": "90a4c9b1",
   "metadata": {},
   "outputs": [],
   "source": [
    "print('Slope:' ,regression.coef_)\n",
    "print('Mean squared error: ', rmse)\n",
    "print('R2 score: ', r2)"
   ]
  },
  {
   "cell_type": "code",
   "execution_count": null,
   "id": "d380df08",
   "metadata": {},
   "outputs": [],
   "source": [
    "# Visualizing the test set results.\n",
    "\n",
    "plot_test = plt\n",
    "plot_test.scatter(X_test_2, y_test_2, color='gray', s = 15)\n",
    "plot_test.plot(X_test_2, y_predicted_2, color='red', linewidth =3)\n",
    "plot_test.title('Distance from metro vs Price per unit (Test set)')\n",
    "plot_test.xlabel('Distance from metro')\n",
    "plot_test.ylabel('Price per unit')\n",
    "plot_test.show()"
   ]
  },
  {
   "cell_type": "code",
   "execution_count": null,
   "id": "6d4cb718",
   "metadata": {},
   "outputs": [],
   "source": [
    "data = pd.DataFrame({'Actual': y_test_2.flatten(), 'Predicted': y_predicted_2.flatten()})\n",
    "data.head(30)"
   ]
  },
  {
   "cell_type": "markdown",
   "id": "14e8ff7f",
   "metadata": {},
   "source": [
    "## Conclution: The regression analysis  show us that we can confirm the stated hypothesis, that more spending in education by countries will reflect in better universities ranking in world."
   ]
  },
  {
   "cell_type": "code",
   "execution_count": null,
   "id": "ee369704",
   "metadata": {},
   "outputs": [],
   "source": []
  }
 ],
 "metadata": {
  "kernelspec": {
   "display_name": "Python 3 (ipykernel)",
   "language": "python",
   "name": "python3"
  },
  "language_info": {
   "codemirror_mode": {
    "name": "ipython",
    "version": 3
   },
   "file_extension": ".py",
   "mimetype": "text/x-python",
   "name": "python",
   "nbconvert_exporter": "python",
   "pygments_lexer": "ipython3",
   "version": "3.11.4"
  }
 },
 "nbformat": 4,
 "nbformat_minor": 5
}
