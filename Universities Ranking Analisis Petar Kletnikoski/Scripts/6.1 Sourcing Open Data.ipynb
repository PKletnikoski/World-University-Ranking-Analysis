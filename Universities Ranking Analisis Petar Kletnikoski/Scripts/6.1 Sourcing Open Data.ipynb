{
 "cells": [
  {
   "cell_type": "markdown",
   "id": "4c6473c2",
   "metadata": {},
   "source": [
    "## Import libraries "
   ]
  },
  {
   "cell_type": "code",
   "execution_count": 1,
   "id": "ba27732c",
   "metadata": {},
   "outputs": [
    {
     "name": "stderr",
     "output_type": "stream",
     "text": [
      "C:\\Users\\pklet\\AppData\\Local\\Temp\\ipykernel_13748\\448939022.py:10: MatplotlibDeprecationWarning: The seaborn styles shipped by Matplotlib are deprecated since 3.6, as they no longer correspond to the styles shipped by seaborn. However, they will remain available as 'seaborn-v0_8-<style>'. Alternatively, directly use the seaborn API instead.\n",
      "  plt.style.use(\"seaborn-whitegrid\")\n"
     ]
    }
   ],
   "source": [
    "import numpy as np \n",
    "import pandas as pd\n",
    "import matplotlib.pyplot as plt\n",
    "import seaborn as sns\n",
    "import re\n",
    "import plotly.express as px\n",
    "import os\n",
    "\n",
    "# matplotlib defaults\n",
    "plt.style.use(\"seaborn-whitegrid\")\n",
    "plt.rc(\"figure\", autolayout=True)\n",
    "plt.rc(\n",
    "    \"axes\",\n",
    "    labelweight=\"bold\",\n",
    "    labelsize=\"large\",\n",
    "    titleweight=\"bold\",\n",
    "    titlesize=14,\n",
    "    titlepad=10,\n",
    ")"
   ]
  },
  {
   "cell_type": "code",
   "execution_count": 2,
   "id": "08bc301c",
   "metadata": {},
   "outputs": [],
   "source": [
    " # Importinf data sets\n",
    "    \n",
    "path = r'C:\\\\Users\\\\pklet\\\\OneDrive\\\\Petar\\\\University Rankings Data_Task 6'"
   ]
  },
  {
   "cell_type": "code",
   "execution_count": 3,
   "id": "09ba9076",
   "metadata": {},
   "outputs": [],
   "source": [
    "df_rank = pd.read_csv(os.path.join(path, 'THE_World_Universities_2016-2023_rankings.csv'), index_col = False)"
   ]
  },
  {
   "cell_type": "code",
   "execution_count": 4,
   "id": "97ac12e2",
   "metadata": {},
   "outputs": [
    {
     "data": {
      "text/html": [
       "<div>\n",
       "<style scoped>\n",
       "    .dataframe tbody tr th:only-of-type {\n",
       "        vertical-align: middle;\n",
       "    }\n",
       "\n",
       "    .dataframe tbody tr th {\n",
       "        vertical-align: top;\n",
       "    }\n",
       "\n",
       "    .dataframe thead th {\n",
       "        text-align: right;\n",
       "    }\n",
       "</style>\n",
       "<table border=\"1\" class=\"dataframe\">\n",
       "  <thead>\n",
       "    <tr style=\"text-align: right;\">\n",
       "      <th></th>\n",
       "      <th>rank</th>\n",
       "      <th>name</th>\n",
       "      <th>location</th>\n",
       "      <th>scores_overall</th>\n",
       "      <th>scores_citations</th>\n",
       "      <th>scores_industry_income</th>\n",
       "      <th>scores_international_outlook</th>\n",
       "      <th>scores_research</th>\n",
       "      <th>scores_teaching</th>\n",
       "      <th>stats_number_students</th>\n",
       "      <th>stats_student_staff_ratio</th>\n",
       "      <th>stats_pc_intl_students</th>\n",
       "      <th>stats_female_male_ratio</th>\n",
       "      <th>Year</th>\n",
       "    </tr>\n",
       "  </thead>\n",
       "  <tbody>\n",
       "    <tr>\n",
       "      <th>0</th>\n",
       "      <td>1</td>\n",
       "      <td>California Institute of Technology</td>\n",
       "      <td>United States</td>\n",
       "      <td>95.2</td>\n",
       "      <td>99.8</td>\n",
       "      <td>97.8</td>\n",
       "      <td>64.0</td>\n",
       "      <td>97.6</td>\n",
       "      <td>95.6</td>\n",
       "      <td>2,243</td>\n",
       "      <td>6.9</td>\n",
       "      <td>26%</td>\n",
       "      <td>33 : 67</td>\n",
       "      <td>2016</td>\n",
       "    </tr>\n",
       "    <tr>\n",
       "      <th>1</th>\n",
       "      <td>2</td>\n",
       "      <td>University of Oxford</td>\n",
       "      <td>United Kingdom</td>\n",
       "      <td>94.2</td>\n",
       "      <td>98.8</td>\n",
       "      <td>73.1</td>\n",
       "      <td>94.4</td>\n",
       "      <td>98.9</td>\n",
       "      <td>86.5</td>\n",
       "      <td>19,920</td>\n",
       "      <td>11.6</td>\n",
       "      <td>34%</td>\n",
       "      <td>46:54:00</td>\n",
       "      <td>2016</td>\n",
       "    </tr>\n",
       "    <tr>\n",
       "      <th>2</th>\n",
       "      <td>3</td>\n",
       "      <td>Stanford University</td>\n",
       "      <td>United States</td>\n",
       "      <td>93.9</td>\n",
       "      <td>99.9</td>\n",
       "      <td>63.3</td>\n",
       "      <td>76.3</td>\n",
       "      <td>96.2</td>\n",
       "      <td>92.5</td>\n",
       "      <td>15,596</td>\n",
       "      <td>7.8</td>\n",
       "      <td>22%</td>\n",
       "      <td>42:58:00</td>\n",
       "      <td>2016</td>\n",
       "    </tr>\n",
       "    <tr>\n",
       "      <th>3</th>\n",
       "      <td>4</td>\n",
       "      <td>University of Cambridge</td>\n",
       "      <td>United Kingdom</td>\n",
       "      <td>92.8</td>\n",
       "      <td>97.0</td>\n",
       "      <td>55.0</td>\n",
       "      <td>91.5</td>\n",
       "      <td>96.7</td>\n",
       "      <td>88.2</td>\n",
       "      <td>18,810</td>\n",
       "      <td>11.8</td>\n",
       "      <td>34%</td>\n",
       "      <td>46:54:00</td>\n",
       "      <td>2016</td>\n",
       "    </tr>\n",
       "    <tr>\n",
       "      <th>4</th>\n",
       "      <td>5</td>\n",
       "      <td>Massachusetts Institute of Technology</td>\n",
       "      <td>United States</td>\n",
       "      <td>92</td>\n",
       "      <td>99.7</td>\n",
       "      <td>95.4</td>\n",
       "      <td>84.0</td>\n",
       "      <td>88.6</td>\n",
       "      <td>89.4</td>\n",
       "      <td>11,074</td>\n",
       "      <td>9.0</td>\n",
       "      <td>33%</td>\n",
       "      <td>37 : 63</td>\n",
       "      <td>2016</td>\n",
       "    </tr>\n",
       "  </tbody>\n",
       "</table>\n",
       "</div>"
      ],
      "text/plain": [
       "  rank                                   name        location scores_overall  \\\n",
       "0    1     California Institute of Technology   United States           95.2   \n",
       "1    2                   University of Oxford  United Kingdom           94.2   \n",
       "2    3                    Stanford University   United States           93.9   \n",
       "3    4                University of Cambridge  United Kingdom           92.8   \n",
       "4    5  Massachusetts Institute of Technology   United States             92   \n",
       "\n",
       "   scores_citations  scores_industry_income  scores_international_outlook  \\\n",
       "0              99.8                    97.8                          64.0   \n",
       "1              98.8                    73.1                          94.4   \n",
       "2              99.9                    63.3                          76.3   \n",
       "3              97.0                    55.0                          91.5   \n",
       "4              99.7                    95.4                          84.0   \n",
       "\n",
       "   scores_research  scores_teaching stats_number_students  \\\n",
       "0             97.6             95.6                 2,243   \n",
       "1             98.9             86.5                19,920   \n",
       "2             96.2             92.5                15,596   \n",
       "3             96.7             88.2                18,810   \n",
       "4             88.6             89.4                11,074   \n",
       "\n",
       "   stats_student_staff_ratio stats_pc_intl_students stats_female_male_ratio  \\\n",
       "0                        6.9                    26%                 33 : 67   \n",
       "1                       11.6                    34%                46:54:00   \n",
       "2                        7.8                    22%                42:58:00   \n",
       "3                       11.8                    34%                46:54:00   \n",
       "4                        9.0                    33%                 37 : 63   \n",
       "\n",
       "   Year  \n",
       "0  2016  \n",
       "1  2016  \n",
       "2  2016  \n",
       "3  2016  \n",
       "4  2016  "
      ]
     },
     "execution_count": 4,
     "metadata": {},
     "output_type": "execute_result"
    }
   ],
   "source": [
    "df_rank.head()"
   ]
  },
  {
   "cell_type": "code",
   "execution_count": 5,
   "id": "04b361a6",
   "metadata": {},
   "outputs": [],
   "source": [
    "df_spending = pd.read_csv(os.path.join(path, 'Exp_public_privat_ education.csv'), index_col = False)"
   ]
  },
  {
   "cell_type": "code",
   "execution_count": 6,
   "id": "128df6b0",
   "metadata": {},
   "outputs": [
    {
     "data": {
      "text/html": [
       "<div>\n",
       "<style scoped>\n",
       "    .dataframe tbody tr th:only-of-type {\n",
       "        vertical-align: middle;\n",
       "    }\n",
       "\n",
       "    .dataframe tbody tr th {\n",
       "        vertical-align: top;\n",
       "    }\n",
       "\n",
       "    .dataframe thead th {\n",
       "        text-align: right;\n",
       "    }\n",
       "</style>\n",
       "<table border=\"1\" class=\"dataframe\">\n",
       "  <thead>\n",
       "    <tr style=\"text-align: right;\">\n",
       "      <th></th>\n",
       "      <th>LOCATION</th>\n",
       "      <th>INDICATOR</th>\n",
       "      <th>SUBJECT</th>\n",
       "      <th>MEASURE</th>\n",
       "      <th>FREQUENCY</th>\n",
       "      <th>TIME</th>\n",
       "      <th>Value</th>\n",
       "    </tr>\n",
       "  </thead>\n",
       "  <tbody>\n",
       "    <tr>\n",
       "      <th>0</th>\n",
       "      <td>AUS</td>\n",
       "      <td>EDUPUBEXP</td>\n",
       "      <td>TRY</td>\n",
       "      <td>PC_GDP</td>\n",
       "      <td>A</td>\n",
       "      <td>2000</td>\n",
       "      <td>0.744540</td>\n",
       "    </tr>\n",
       "    <tr>\n",
       "      <th>1</th>\n",
       "      <td>AUS</td>\n",
       "      <td>EDUPUBEXP</td>\n",
       "      <td>TRY</td>\n",
       "      <td>PC_GDP</td>\n",
       "      <td>A</td>\n",
       "      <td>2005</td>\n",
       "      <td>0.689385</td>\n",
       "    </tr>\n",
       "    <tr>\n",
       "      <th>2</th>\n",
       "      <td>AUS</td>\n",
       "      <td>EDUPUBEXP</td>\n",
       "      <td>TRY</td>\n",
       "      <td>PC_GDP</td>\n",
       "      <td>A</td>\n",
       "      <td>2008</td>\n",
       "      <td>0.689400</td>\n",
       "    </tr>\n",
       "    <tr>\n",
       "      <th>3</th>\n",
       "      <td>AUS</td>\n",
       "      <td>EDUPUBEXP</td>\n",
       "      <td>TRY</td>\n",
       "      <td>PC_GDP</td>\n",
       "      <td>A</td>\n",
       "      <td>2009</td>\n",
       "      <td>0.734759</td>\n",
       "    </tr>\n",
       "    <tr>\n",
       "      <th>4</th>\n",
       "      <td>AUS</td>\n",
       "      <td>EDUPUBEXP</td>\n",
       "      <td>TRY</td>\n",
       "      <td>PC_GDP</td>\n",
       "      <td>A</td>\n",
       "      <td>2010</td>\n",
       "      <td>0.778470</td>\n",
       "    </tr>\n",
       "  </tbody>\n",
       "</table>\n",
       "</div>"
      ],
      "text/plain": [
       "  LOCATION  INDICATOR SUBJECT MEASURE FREQUENCY  TIME     Value\n",
       "0      AUS  EDUPUBEXP     TRY  PC_GDP         A  2000  0.744540\n",
       "1      AUS  EDUPUBEXP     TRY  PC_GDP         A  2005  0.689385\n",
       "2      AUS  EDUPUBEXP     TRY  PC_GDP         A  2008  0.689400\n",
       "3      AUS  EDUPUBEXP     TRY  PC_GDP         A  2009  0.734759\n",
       "4      AUS  EDUPUBEXP     TRY  PC_GDP         A  2010  0.778470"
      ]
     },
     "execution_count": 6,
     "metadata": {},
     "output_type": "execute_result"
    }
   ],
   "source": [
    "df_spending.head()"
   ]
  },
  {
   "cell_type": "markdown",
   "id": "0efac026",
   "metadata": {},
   "source": [
    "# Cleaning and Wrangling"
   ]
  },
  {
   "cell_type": "code",
   "execution_count": 7,
   "id": "bd9c7546",
   "metadata": {},
   "outputs": [
    {
     "data": {
      "text/html": [
       "<div>\n",
       "<style scoped>\n",
       "    .dataframe tbody tr th:only-of-type {\n",
       "        vertical-align: middle;\n",
       "    }\n",
       "\n",
       "    .dataframe tbody tr th {\n",
       "        vertical-align: top;\n",
       "    }\n",
       "\n",
       "    .dataframe thead th {\n",
       "        text-align: right;\n",
       "    }\n",
       "</style>\n",
       "<table border=\"1\" class=\"dataframe\">\n",
       "  <thead>\n",
       "    <tr style=\"text-align: right;\">\n",
       "      <th></th>\n",
       "      <th>scores_citations</th>\n",
       "      <th>scores_industry_income</th>\n",
       "      <th>scores_international_outlook</th>\n",
       "      <th>scores_research</th>\n",
       "      <th>scores_teaching</th>\n",
       "      <th>stats_student_staff_ratio</th>\n",
       "      <th>Year</th>\n",
       "    </tr>\n",
       "  </thead>\n",
       "  <tbody>\n",
       "    <tr>\n",
       "      <th>count</th>\n",
       "      <td>10526.000000</td>\n",
       "      <td>10526.000000</td>\n",
       "      <td>10526.000000</td>\n",
       "      <td>10526.000000</td>\n",
       "      <td>10526.000000</td>\n",
       "      <td>11521.000000</td>\n",
       "      <td>11522.000000</td>\n",
       "    </tr>\n",
       "    <tr>\n",
       "      <th>mean</th>\n",
       "      <td>29.936823</td>\n",
       "      <td>25.504019</td>\n",
       "      <td>48.432310</td>\n",
       "      <td>44.976363</td>\n",
       "      <td>45.906983</td>\n",
       "      <td>18.939849</td>\n",
       "      <td>2020.275820</td>\n",
       "    </tr>\n",
       "    <tr>\n",
       "      <th>std</th>\n",
       "      <td>16.531236</td>\n",
       "      <td>18.818761</td>\n",
       "      <td>27.680549</td>\n",
       "      <td>17.615227</td>\n",
       "      <td>22.993406</td>\n",
       "      <td>17.579755</td>\n",
       "      <td>2.234057</td>\n",
       "    </tr>\n",
       "    <tr>\n",
       "      <th>min</th>\n",
       "      <td>1.200000</td>\n",
       "      <td>0.000000</td>\n",
       "      <td>0.700000</td>\n",
       "      <td>0.000000</td>\n",
       "      <td>7.900000</td>\n",
       "      <td>0.300000</td>\n",
       "      <td>2016.000000</td>\n",
       "    </tr>\n",
       "    <tr>\n",
       "      <th>25%</th>\n",
       "      <td>18.700000</td>\n",
       "      <td>11.800000</td>\n",
       "      <td>23.600000</td>\n",
       "      <td>35.300000</td>\n",
       "      <td>26.300000</td>\n",
       "      <td>12.300000</td>\n",
       "      <td>2018.000000</td>\n",
       "    </tr>\n",
       "    <tr>\n",
       "      <th>50%</th>\n",
       "      <td>24.400000</td>\n",
       "      <td>19.200000</td>\n",
       "      <td>46.100000</td>\n",
       "      <td>39.000000</td>\n",
       "      <td>41.200000</td>\n",
       "      <td>16.400000</td>\n",
       "      <td>2021.000000</td>\n",
       "    </tr>\n",
       "    <tr>\n",
       "      <th>75%</th>\n",
       "      <td>35.200000</td>\n",
       "      <td>32.800000</td>\n",
       "      <td>72.100000</td>\n",
       "      <td>48.600000</td>\n",
       "      <td>61.100000</td>\n",
       "      <td>22.100000</td>\n",
       "      <td>2022.000000</td>\n",
       "    </tr>\n",
       "    <tr>\n",
       "      <th>max</th>\n",
       "      <td>100.000000</td>\n",
       "      <td>100.000000</td>\n",
       "      <td>100.000000</td>\n",
       "      <td>100.000000</td>\n",
       "      <td>100.000000</td>\n",
       "      <td>865.800000</td>\n",
       "      <td>2023.000000</td>\n",
       "    </tr>\n",
       "  </tbody>\n",
       "</table>\n",
       "</div>"
      ],
      "text/plain": [
       "       scores_citations  scores_industry_income  scores_international_outlook  \\\n",
       "count      10526.000000            10526.000000                  10526.000000   \n",
       "mean          29.936823               25.504019                     48.432310   \n",
       "std           16.531236               18.818761                     27.680549   \n",
       "min            1.200000                0.000000                      0.700000   \n",
       "25%           18.700000               11.800000                     23.600000   \n",
       "50%           24.400000               19.200000                     46.100000   \n",
       "75%           35.200000               32.800000                     72.100000   \n",
       "max          100.000000              100.000000                    100.000000   \n",
       "\n",
       "       scores_research  scores_teaching  stats_student_staff_ratio  \\\n",
       "count     10526.000000     10526.000000               11521.000000   \n",
       "mean         44.976363        45.906983                  18.939849   \n",
       "std          17.615227        22.993406                  17.579755   \n",
       "min           0.000000         7.900000                   0.300000   \n",
       "25%          35.300000        26.300000                  12.300000   \n",
       "50%          39.000000        41.200000                  16.400000   \n",
       "75%          48.600000        61.100000                  22.100000   \n",
       "max         100.000000       100.000000                 865.800000   \n",
       "\n",
       "               Year  \n",
       "count  11522.000000  \n",
       "mean    2020.275820  \n",
       "std        2.234057  \n",
       "min     2016.000000  \n",
       "25%     2018.000000  \n",
       "50%     2021.000000  \n",
       "75%     2022.000000  \n",
       "max     2023.000000  "
      ]
     },
     "execution_count": 7,
     "metadata": {},
     "output_type": "execute_result"
    }
   ],
   "source": [
    "df_rank.describe()"
   ]
  },
  {
   "cell_type": "code",
   "execution_count": 8,
   "id": "858f4d4d",
   "metadata": {},
   "outputs": [
    {
     "data": {
      "text/plain": [
       "(11522, 14)"
      ]
     },
     "execution_count": 8,
     "metadata": {},
     "output_type": "execute_result"
    }
   ],
   "source": [
    "df_rank.shape"
   ]
  },
  {
   "cell_type": "code",
   "execution_count": 9,
   "id": "bd90eb84",
   "metadata": {},
   "outputs": [
    {
     "data": {
      "text/plain": [
       "rank                            11522\n",
       "name                            11522\n",
       "location                        11522\n",
       "scores_overall                  10526\n",
       "scores_citations                10526\n",
       "scores_industry_income          10526\n",
       "scores_international_outlook    10526\n",
       "scores_research                 10526\n",
       "scores_teaching                 10526\n",
       "stats_number_students           11522\n",
       "stats_student_staff_ratio       11521\n",
       "stats_pc_intl_students          11522\n",
       "stats_female_male_ratio         10995\n",
       "Year                            11522\n",
       "dtype: int64"
      ]
     },
     "execution_count": 9,
     "metadata": {},
     "output_type": "execute_result"
    }
   ],
   "source": [
    "df_rank.count()"
   ]
  },
  {
   "cell_type": "code",
   "execution_count": 10,
   "id": "02b67d59",
   "metadata": {},
   "outputs": [
    {
     "name": "stdout",
     "output_type": "stream",
     "text": [
      "<class 'pandas.core.frame.DataFrame'>\n",
      "RangeIndex: 11522 entries, 0 to 11521\n",
      "Data columns (total 14 columns):\n",
      " #   Column                        Non-Null Count  Dtype  \n",
      "---  ------                        --------------  -----  \n",
      " 0   rank                          11522 non-null  object \n",
      " 1   name                          11522 non-null  object \n",
      " 2   location                      11522 non-null  object \n",
      " 3   scores_overall                10526 non-null  object \n",
      " 4   scores_citations              10526 non-null  float64\n",
      " 5   scores_industry_income        10526 non-null  float64\n",
      " 6   scores_international_outlook  10526 non-null  float64\n",
      " 7   scores_research               10526 non-null  float64\n",
      " 8   scores_teaching               10526 non-null  float64\n",
      " 9   stats_number_students         11522 non-null  object \n",
      " 10  stats_student_staff_ratio     11521 non-null  float64\n",
      " 11  stats_pc_intl_students        11522 non-null  object \n",
      " 12  stats_female_male_ratio       10995 non-null  object \n",
      " 13  Year                          11522 non-null  int64  \n",
      "dtypes: float64(6), int64(1), object(7)\n",
      "memory usage: 1.2+ MB\n"
     ]
    }
   ],
   "source": [
    "df_rank.info()"
   ]
  },
  {
   "cell_type": "code",
   "execution_count": 11,
   "id": "95187066",
   "metadata": {},
   "outputs": [
    {
     "data": {
      "text/plain": [
       "NaN          996\n",
       "0            600\n",
       "10.3–25.0    525\n",
       "10.6–22.3    461\n",
       "10.7–22.1    396\n",
       "            ... \n",
       "91.8           1\n",
       "91.1           1\n",
       "88.6           1\n",
       "74.7           1\n",
       "71.8           1\n",
       "Name: scores_overall, Length: 476, dtype: int64"
      ]
     },
     "execution_count": 11,
     "metadata": {},
     "output_type": "execute_result"
    }
   ],
   "source": [
    "df_rank['scores_overall'].value_counts(dropna=False)"
   ]
  },
  {
   "cell_type": "code",
   "execution_count": 12,
   "id": "2deb8d58",
   "metadata": {},
   "outputs": [
    {
     "name": "stdout",
     "output_type": "stream",
     "text": [
      "scores_overall\n",
      "stats_female_male_ratio\n"
     ]
    }
   ],
   "source": [
    "for col in df_rank.columns.tolist():\n",
    "  weird = (df_rank[[col]].applymap(type) != df_rank[[col]].iloc[0].apply(type)).any(axis = 1)\n",
    "  if len (df_rank[weird]) > 0:\n",
    "    print (col)"
   ]
  },
  {
   "cell_type": "code",
   "execution_count": 13,
   "id": "66babc7b",
   "metadata": {},
   "outputs": [],
   "source": [
    "df_rank['scores_overall'] = df_rank['scores_overall'].astype('str')"
   ]
  },
  {
   "cell_type": "code",
   "execution_count": 14,
   "id": "977af2e6",
   "metadata": {},
   "outputs": [],
   "source": [
    "df_rank['scores_citations'] = df_rank['scores_citations'].astype('str')"
   ]
  },
  {
   "cell_type": "code",
   "execution_count": 15,
   "id": "7cfa273d",
   "metadata": {},
   "outputs": [],
   "source": [
    "df_rank['scores_industry_income'] = df_rank['scores_industry_income'].astype('str')"
   ]
  },
  {
   "cell_type": "code",
   "execution_count": 16,
   "id": "86b670d6",
   "metadata": {},
   "outputs": [],
   "source": [
    "df_rank['scores_international_outlook'] = df_rank['scores_international_outlook'].astype('str')"
   ]
  },
  {
   "cell_type": "code",
   "execution_count": 17,
   "id": "e359fe9c",
   "metadata": {},
   "outputs": [],
   "source": [
    "df_rank['rank'] = df_rank['rank'].astype('str')"
   ]
  },
  {
   "cell_type": "code",
   "execution_count": 18,
   "id": "6b65ef12",
   "metadata": {},
   "outputs": [],
   "source": [
    "df_rank['scores_research'] = df_rank['scores_research'].astype('str')"
   ]
  },
  {
   "cell_type": "code",
   "execution_count": 19,
   "id": "6911a951",
   "metadata": {},
   "outputs": [],
   "source": [
    "df_rank['scores_teaching'] = df_rank['scores_teaching'].astype('str')"
   ]
  },
  {
   "cell_type": "code",
   "execution_count": 20,
   "id": "f1c2d562",
   "metadata": {},
   "outputs": [],
   "source": [
    "df_rank['stats_number_students'] = df_rank['stats_number_students'].astype('str')"
   ]
  },
  {
   "cell_type": "code",
   "execution_count": 21,
   "id": "9b453971",
   "metadata": {},
   "outputs": [],
   "source": [
    "df_rank['stats_student_staff_ratio'] = df_rank['stats_student_staff_ratio'].astype('str')"
   ]
  },
  {
   "cell_type": "code",
   "execution_count": 22,
   "id": "96e0fe29",
   "metadata": {},
   "outputs": [],
   "source": [
    "df_rank['stats_pc_intl_students'] = df_rank['stats_pc_intl_students'].astype('str')"
   ]
  },
  {
   "cell_type": "code",
   "execution_count": 23,
   "id": "62073a6d",
   "metadata": {},
   "outputs": [
    {
     "name": "stdout",
     "output_type": "stream",
     "text": [
      "<class 'pandas.core.frame.DataFrame'>\n",
      "RangeIndex: 11522 entries, 0 to 11521\n",
      "Data columns (total 14 columns):\n",
      " #   Column                        Non-Null Count  Dtype \n",
      "---  ------                        --------------  ----- \n",
      " 0   rank                          11522 non-null  object\n",
      " 1   name                          11522 non-null  object\n",
      " 2   location                      11522 non-null  object\n",
      " 3   scores_overall                11522 non-null  object\n",
      " 4   scores_citations              11522 non-null  object\n",
      " 5   scores_industry_income        11522 non-null  object\n",
      " 6   scores_international_outlook  11522 non-null  object\n",
      " 7   scores_research               11522 non-null  object\n",
      " 8   scores_teaching               11522 non-null  object\n",
      " 9   stats_number_students         11522 non-null  object\n",
      " 10  stats_student_staff_ratio     11522 non-null  object\n",
      " 11  stats_pc_intl_students        11522 non-null  object\n",
      " 12  stats_female_male_ratio       10995 non-null  object\n",
      " 13  Year                          11522 non-null  int64 \n",
      "dtypes: int64(1), object(13)\n",
      "memory usage: 1.2+ MB\n"
     ]
    }
   ],
   "source": [
    "df_rank.info()"
   ]
  },
  {
   "cell_type": "code",
   "execution_count": 24,
   "id": "b7be699b",
   "metadata": {},
   "outputs": [
    {
     "data": {
      "text/plain": [
       "rank                              0\n",
       "name                              0\n",
       "location                          0\n",
       "scores_overall                    0\n",
       "scores_citations                  0\n",
       "scores_industry_income            0\n",
       "scores_international_outlook      0\n",
       "scores_research                   0\n",
       "scores_teaching                   0\n",
       "stats_number_students             0\n",
       "stats_student_staff_ratio         0\n",
       "stats_pc_intl_students            0\n",
       "stats_female_male_ratio         527\n",
       "Year                              0\n",
       "dtype: int64"
      ]
     },
     "execution_count": 24,
     "metadata": {},
     "output_type": "execute_result"
    }
   ],
   "source": [
    "df_rank.isnull().sum()"
   ]
  },
  {
   "cell_type": "code",
   "execution_count": 25,
   "id": "d4e6274b",
   "metadata": {
    "scrolled": true
   },
   "outputs": [
    {
     "data": {
      "text/html": [
       "<div>\n",
       "<style scoped>\n",
       "    .dataframe tbody tr th:only-of-type {\n",
       "        vertical-align: middle;\n",
       "    }\n",
       "\n",
       "    .dataframe tbody tr th {\n",
       "        vertical-align: top;\n",
       "    }\n",
       "\n",
       "    .dataframe thead th {\n",
       "        text-align: right;\n",
       "    }\n",
       "</style>\n",
       "<table border=\"1\" class=\"dataframe\">\n",
       "  <thead>\n",
       "    <tr style=\"text-align: right;\">\n",
       "      <th></th>\n",
       "      <th>rank</th>\n",
       "      <th>name</th>\n",
       "      <th>location</th>\n",
       "      <th>scores_overall</th>\n",
       "      <th>scores_citations</th>\n",
       "      <th>scores_industry_income</th>\n",
       "      <th>scores_international_outlook</th>\n",
       "      <th>scores_research</th>\n",
       "      <th>scores_teaching</th>\n",
       "      <th>stats_number_students</th>\n",
       "      <th>stats_student_staff_ratio</th>\n",
       "      <th>stats_pc_intl_students</th>\n",
       "      <th>stats_female_male_ratio</th>\n",
       "      <th>Year</th>\n",
       "    </tr>\n",
       "  </thead>\n",
       "  <tbody>\n",
       "    <tr>\n",
       "      <th>0</th>\n",
       "      <td>1</td>\n",
       "      <td>California Institute of Technology</td>\n",
       "      <td>United States</td>\n",
       "      <td>95.2</td>\n",
       "      <td>99.8</td>\n",
       "      <td>97.8</td>\n",
       "      <td>64.0</td>\n",
       "      <td>97.6</td>\n",
       "      <td>95.6</td>\n",
       "      <td>2,243</td>\n",
       "      <td>6.9</td>\n",
       "      <td>26%</td>\n",
       "      <td>33 : 67</td>\n",
       "      <td>2016</td>\n",
       "    </tr>\n",
       "    <tr>\n",
       "      <th>1</th>\n",
       "      <td>2</td>\n",
       "      <td>University of Oxford</td>\n",
       "      <td>United Kingdom</td>\n",
       "      <td>94.2</td>\n",
       "      <td>98.8</td>\n",
       "      <td>73.1</td>\n",
       "      <td>94.4</td>\n",
       "      <td>98.9</td>\n",
       "      <td>86.5</td>\n",
       "      <td>19,920</td>\n",
       "      <td>11.6</td>\n",
       "      <td>34%</td>\n",
       "      <td>46:54:00</td>\n",
       "      <td>2016</td>\n",
       "    </tr>\n",
       "    <tr>\n",
       "      <th>2</th>\n",
       "      <td>3</td>\n",
       "      <td>Stanford University</td>\n",
       "      <td>United States</td>\n",
       "      <td>93.9</td>\n",
       "      <td>99.9</td>\n",
       "      <td>63.3</td>\n",
       "      <td>76.3</td>\n",
       "      <td>96.2</td>\n",
       "      <td>92.5</td>\n",
       "      <td>15,596</td>\n",
       "      <td>7.8</td>\n",
       "      <td>22%</td>\n",
       "      <td>42:58:00</td>\n",
       "      <td>2016</td>\n",
       "    </tr>\n",
       "    <tr>\n",
       "      <th>3</th>\n",
       "      <td>4</td>\n",
       "      <td>University of Cambridge</td>\n",
       "      <td>United Kingdom</td>\n",
       "      <td>92.8</td>\n",
       "      <td>97.0</td>\n",
       "      <td>55.0</td>\n",
       "      <td>91.5</td>\n",
       "      <td>96.7</td>\n",
       "      <td>88.2</td>\n",
       "      <td>18,810</td>\n",
       "      <td>11.8</td>\n",
       "      <td>34%</td>\n",
       "      <td>46:54:00</td>\n",
       "      <td>2016</td>\n",
       "    </tr>\n",
       "    <tr>\n",
       "      <th>4</th>\n",
       "      <td>5</td>\n",
       "      <td>Massachusetts Institute of Technology</td>\n",
       "      <td>United States</td>\n",
       "      <td>92</td>\n",
       "      <td>99.7</td>\n",
       "      <td>95.4</td>\n",
       "      <td>84.0</td>\n",
       "      <td>88.6</td>\n",
       "      <td>89.4</td>\n",
       "      <td>11,074</td>\n",
       "      <td>9.0</td>\n",
       "      <td>33%</td>\n",
       "      <td>37 : 63</td>\n",
       "      <td>2016</td>\n",
       "    </tr>\n",
       "  </tbody>\n",
       "</table>\n",
       "</div>"
      ],
      "text/plain": [
       "  rank                                   name        location scores_overall  \\\n",
       "0    1     California Institute of Technology   United States           95.2   \n",
       "1    2                   University of Oxford  United Kingdom           94.2   \n",
       "2    3                    Stanford University   United States           93.9   \n",
       "3    4                University of Cambridge  United Kingdom           92.8   \n",
       "4    5  Massachusetts Institute of Technology   United States             92   \n",
       "\n",
       "  scores_citations scores_industry_income scores_international_outlook  \\\n",
       "0             99.8                   97.8                         64.0   \n",
       "1             98.8                   73.1                         94.4   \n",
       "2             99.9                   63.3                         76.3   \n",
       "3             97.0                   55.0                         91.5   \n",
       "4             99.7                   95.4                         84.0   \n",
       "\n",
       "  scores_research scores_teaching stats_number_students  \\\n",
       "0            97.6            95.6                 2,243   \n",
       "1            98.9            86.5                19,920   \n",
       "2            96.2            92.5                15,596   \n",
       "3            96.7            88.2                18,810   \n",
       "4            88.6            89.4                11,074   \n",
       "\n",
       "  stats_student_staff_ratio stats_pc_intl_students stats_female_male_ratio  \\\n",
       "0                       6.9                    26%                 33 : 67   \n",
       "1                      11.6                    34%                46:54:00   \n",
       "2                       7.8                    22%                42:58:00   \n",
       "3                      11.8                    34%                46:54:00   \n",
       "4                       9.0                    33%                 37 : 63   \n",
       "\n",
       "   Year  \n",
       "0  2016  \n",
       "1  2016  \n",
       "2  2016  \n",
       "3  2016  \n",
       "4  2016  "
      ]
     },
     "execution_count": 25,
     "metadata": {},
     "output_type": "execute_result"
    }
   ],
   "source": [
    "df_rank.head()"
   ]
  },
  {
   "cell_type": "code",
   "execution_count": 26,
   "id": "95595fa9",
   "metadata": {},
   "outputs": [],
   "source": [
    "df_rank['stats_female_male_ratio'] = df_rank['stats_female_male_ratio'].str.rstrip(':00')"
   ]
  },
  {
   "cell_type": "code",
   "execution_count": 27,
   "id": "ffd15e6d",
   "metadata": {
    "scrolled": true
   },
   "outputs": [
    {
     "data": {
      "text/html": [
       "<div>\n",
       "<style scoped>\n",
       "    .dataframe tbody tr th:only-of-type {\n",
       "        vertical-align: middle;\n",
       "    }\n",
       "\n",
       "    .dataframe tbody tr th {\n",
       "        vertical-align: top;\n",
       "    }\n",
       "\n",
       "    .dataframe thead th {\n",
       "        text-align: right;\n",
       "    }\n",
       "</style>\n",
       "<table border=\"1\" class=\"dataframe\">\n",
       "  <thead>\n",
       "    <tr style=\"text-align: right;\">\n",
       "      <th></th>\n",
       "      <th>rank</th>\n",
       "      <th>name</th>\n",
       "      <th>location</th>\n",
       "      <th>scores_overall</th>\n",
       "      <th>scores_citations</th>\n",
       "      <th>scores_industry_income</th>\n",
       "      <th>scores_international_outlook</th>\n",
       "      <th>scores_research</th>\n",
       "      <th>scores_teaching</th>\n",
       "      <th>stats_number_students</th>\n",
       "      <th>stats_student_staff_ratio</th>\n",
       "      <th>stats_pc_intl_students</th>\n",
       "      <th>stats_female_male_ratio</th>\n",
       "      <th>Year</th>\n",
       "    </tr>\n",
       "  </thead>\n",
       "  <tbody>\n",
       "    <tr>\n",
       "      <th>0</th>\n",
       "      <td>1</td>\n",
       "      <td>California Institute of Technology</td>\n",
       "      <td>United States</td>\n",
       "      <td>95.2</td>\n",
       "      <td>99.8</td>\n",
       "      <td>97.8</td>\n",
       "      <td>64.0</td>\n",
       "      <td>97.6</td>\n",
       "      <td>95.6</td>\n",
       "      <td>2,243</td>\n",
       "      <td>6.9</td>\n",
       "      <td>26%</td>\n",
       "      <td>33 : 67</td>\n",
       "      <td>2016</td>\n",
       "    </tr>\n",
       "    <tr>\n",
       "      <th>1</th>\n",
       "      <td>2</td>\n",
       "      <td>University of Oxford</td>\n",
       "      <td>United Kingdom</td>\n",
       "      <td>94.2</td>\n",
       "      <td>98.8</td>\n",
       "      <td>73.1</td>\n",
       "      <td>94.4</td>\n",
       "      <td>98.9</td>\n",
       "      <td>86.5</td>\n",
       "      <td>19,920</td>\n",
       "      <td>11.6</td>\n",
       "      <td>34%</td>\n",
       "      <td>46:54</td>\n",
       "      <td>2016</td>\n",
       "    </tr>\n",
       "    <tr>\n",
       "      <th>2</th>\n",
       "      <td>3</td>\n",
       "      <td>Stanford University</td>\n",
       "      <td>United States</td>\n",
       "      <td>93.9</td>\n",
       "      <td>99.9</td>\n",
       "      <td>63.3</td>\n",
       "      <td>76.3</td>\n",
       "      <td>96.2</td>\n",
       "      <td>92.5</td>\n",
       "      <td>15,596</td>\n",
       "      <td>7.8</td>\n",
       "      <td>22%</td>\n",
       "      <td>42:58</td>\n",
       "      <td>2016</td>\n",
       "    </tr>\n",
       "    <tr>\n",
       "      <th>3</th>\n",
       "      <td>4</td>\n",
       "      <td>University of Cambridge</td>\n",
       "      <td>United Kingdom</td>\n",
       "      <td>92.8</td>\n",
       "      <td>97.0</td>\n",
       "      <td>55.0</td>\n",
       "      <td>91.5</td>\n",
       "      <td>96.7</td>\n",
       "      <td>88.2</td>\n",
       "      <td>18,810</td>\n",
       "      <td>11.8</td>\n",
       "      <td>34%</td>\n",
       "      <td>46:54</td>\n",
       "      <td>2016</td>\n",
       "    </tr>\n",
       "    <tr>\n",
       "      <th>4</th>\n",
       "      <td>5</td>\n",
       "      <td>Massachusetts Institute of Technology</td>\n",
       "      <td>United States</td>\n",
       "      <td>92</td>\n",
       "      <td>99.7</td>\n",
       "      <td>95.4</td>\n",
       "      <td>84.0</td>\n",
       "      <td>88.6</td>\n",
       "      <td>89.4</td>\n",
       "      <td>11,074</td>\n",
       "      <td>9.0</td>\n",
       "      <td>33%</td>\n",
       "      <td>37 : 63</td>\n",
       "      <td>2016</td>\n",
       "    </tr>\n",
       "  </tbody>\n",
       "</table>\n",
       "</div>"
      ],
      "text/plain": [
       "  rank                                   name        location scores_overall  \\\n",
       "0    1     California Institute of Technology   United States           95.2   \n",
       "1    2                   University of Oxford  United Kingdom           94.2   \n",
       "2    3                    Stanford University   United States           93.9   \n",
       "3    4                University of Cambridge  United Kingdom           92.8   \n",
       "4    5  Massachusetts Institute of Technology   United States             92   \n",
       "\n",
       "  scores_citations scores_industry_income scores_international_outlook  \\\n",
       "0             99.8                   97.8                         64.0   \n",
       "1             98.8                   73.1                         94.4   \n",
       "2             99.9                   63.3                         76.3   \n",
       "3             97.0                   55.0                         91.5   \n",
       "4             99.7                   95.4                         84.0   \n",
       "\n",
       "  scores_research scores_teaching stats_number_students  \\\n",
       "0            97.6            95.6                 2,243   \n",
       "1            98.9            86.5                19,920   \n",
       "2            96.2            92.5                15,596   \n",
       "3            96.7            88.2                18,810   \n",
       "4            88.6            89.4                11,074   \n",
       "\n",
       "  stats_student_staff_ratio stats_pc_intl_students stats_female_male_ratio  \\\n",
       "0                       6.9                    26%                 33 : 67   \n",
       "1                      11.6                    34%                   46:54   \n",
       "2                       7.8                    22%                   42:58   \n",
       "3                      11.8                    34%                   46:54   \n",
       "4                       9.0                    33%                 37 : 63   \n",
       "\n",
       "   Year  \n",
       "0  2016  \n",
       "1  2016  \n",
       "2  2016  \n",
       "3  2016  \n",
       "4  2016  "
      ]
     },
     "execution_count": 27,
     "metadata": {},
     "output_type": "execute_result"
    }
   ],
   "source": [
    "df_rank.head()"
   ]
  },
  {
   "cell_type": "code",
   "execution_count": 28,
   "id": "30602961",
   "metadata": {},
   "outputs": [],
   "source": [
    "df_rank[['female_ratio', 'male_ratio']] = df_rank['stats_female_male_ratio'].str.split(':', expand=True)\n"
   ]
  },
  {
   "cell_type": "code",
   "execution_count": 29,
   "id": "e065217c",
   "metadata": {},
   "outputs": [
    {
     "data": {
      "text/html": [
       "<div>\n",
       "<style scoped>\n",
       "    .dataframe tbody tr th:only-of-type {\n",
       "        vertical-align: middle;\n",
       "    }\n",
       "\n",
       "    .dataframe tbody tr th {\n",
       "        vertical-align: top;\n",
       "    }\n",
       "\n",
       "    .dataframe thead th {\n",
       "        text-align: right;\n",
       "    }\n",
       "</style>\n",
       "<table border=\"1\" class=\"dataframe\">\n",
       "  <thead>\n",
       "    <tr style=\"text-align: right;\">\n",
       "      <th></th>\n",
       "      <th>rank</th>\n",
       "      <th>name</th>\n",
       "      <th>location</th>\n",
       "      <th>scores_overall</th>\n",
       "      <th>scores_citations</th>\n",
       "      <th>scores_industry_income</th>\n",
       "      <th>scores_international_outlook</th>\n",
       "      <th>scores_research</th>\n",
       "      <th>scores_teaching</th>\n",
       "      <th>stats_number_students</th>\n",
       "      <th>stats_student_staff_ratio</th>\n",
       "      <th>stats_pc_intl_students</th>\n",
       "      <th>stats_female_male_ratio</th>\n",
       "      <th>Year</th>\n",
       "      <th>female_ratio</th>\n",
       "      <th>male_ratio</th>\n",
       "    </tr>\n",
       "  </thead>\n",
       "  <tbody>\n",
       "    <tr>\n",
       "      <th>0</th>\n",
       "      <td>1</td>\n",
       "      <td>California Institute of Technology</td>\n",
       "      <td>United States</td>\n",
       "      <td>95.2</td>\n",
       "      <td>99.8</td>\n",
       "      <td>97.8</td>\n",
       "      <td>64.0</td>\n",
       "      <td>97.6</td>\n",
       "      <td>95.6</td>\n",
       "      <td>2,243</td>\n",
       "      <td>6.9</td>\n",
       "      <td>26%</td>\n",
       "      <td>33 : 67</td>\n",
       "      <td>2016</td>\n",
       "      <td>33</td>\n",
       "      <td>67</td>\n",
       "    </tr>\n",
       "    <tr>\n",
       "      <th>1</th>\n",
       "      <td>2</td>\n",
       "      <td>University of Oxford</td>\n",
       "      <td>United Kingdom</td>\n",
       "      <td>94.2</td>\n",
       "      <td>98.8</td>\n",
       "      <td>73.1</td>\n",
       "      <td>94.4</td>\n",
       "      <td>98.9</td>\n",
       "      <td>86.5</td>\n",
       "      <td>19,920</td>\n",
       "      <td>11.6</td>\n",
       "      <td>34%</td>\n",
       "      <td>46:54</td>\n",
       "      <td>2016</td>\n",
       "      <td>46</td>\n",
       "      <td>54</td>\n",
       "    </tr>\n",
       "    <tr>\n",
       "      <th>2</th>\n",
       "      <td>3</td>\n",
       "      <td>Stanford University</td>\n",
       "      <td>United States</td>\n",
       "      <td>93.9</td>\n",
       "      <td>99.9</td>\n",
       "      <td>63.3</td>\n",
       "      <td>76.3</td>\n",
       "      <td>96.2</td>\n",
       "      <td>92.5</td>\n",
       "      <td>15,596</td>\n",
       "      <td>7.8</td>\n",
       "      <td>22%</td>\n",
       "      <td>42:58</td>\n",
       "      <td>2016</td>\n",
       "      <td>42</td>\n",
       "      <td>58</td>\n",
       "    </tr>\n",
       "    <tr>\n",
       "      <th>3</th>\n",
       "      <td>4</td>\n",
       "      <td>University of Cambridge</td>\n",
       "      <td>United Kingdom</td>\n",
       "      <td>92.8</td>\n",
       "      <td>97.0</td>\n",
       "      <td>55.0</td>\n",
       "      <td>91.5</td>\n",
       "      <td>96.7</td>\n",
       "      <td>88.2</td>\n",
       "      <td>18,810</td>\n",
       "      <td>11.8</td>\n",
       "      <td>34%</td>\n",
       "      <td>46:54</td>\n",
       "      <td>2016</td>\n",
       "      <td>46</td>\n",
       "      <td>54</td>\n",
       "    </tr>\n",
       "    <tr>\n",
       "      <th>4</th>\n",
       "      <td>5</td>\n",
       "      <td>Massachusetts Institute of Technology</td>\n",
       "      <td>United States</td>\n",
       "      <td>92</td>\n",
       "      <td>99.7</td>\n",
       "      <td>95.4</td>\n",
       "      <td>84.0</td>\n",
       "      <td>88.6</td>\n",
       "      <td>89.4</td>\n",
       "      <td>11,074</td>\n",
       "      <td>9.0</td>\n",
       "      <td>33%</td>\n",
       "      <td>37 : 63</td>\n",
       "      <td>2016</td>\n",
       "      <td>37</td>\n",
       "      <td>63</td>\n",
       "    </tr>\n",
       "  </tbody>\n",
       "</table>\n",
       "</div>"
      ],
      "text/plain": [
       "  rank                                   name        location scores_overall  \\\n",
       "0    1     California Institute of Technology   United States           95.2   \n",
       "1    2                   University of Oxford  United Kingdom           94.2   \n",
       "2    3                    Stanford University   United States           93.9   \n",
       "3    4                University of Cambridge  United Kingdom           92.8   \n",
       "4    5  Massachusetts Institute of Technology   United States             92   \n",
       "\n",
       "  scores_citations scores_industry_income scores_international_outlook  \\\n",
       "0             99.8                   97.8                         64.0   \n",
       "1             98.8                   73.1                         94.4   \n",
       "2             99.9                   63.3                         76.3   \n",
       "3             97.0                   55.0                         91.5   \n",
       "4             99.7                   95.4                         84.0   \n",
       "\n",
       "  scores_research scores_teaching stats_number_students  \\\n",
       "0            97.6            95.6                 2,243   \n",
       "1            98.9            86.5                19,920   \n",
       "2            96.2            92.5                15,596   \n",
       "3            96.7            88.2                18,810   \n",
       "4            88.6            89.4                11,074   \n",
       "\n",
       "  stats_student_staff_ratio stats_pc_intl_students stats_female_male_ratio  \\\n",
       "0                       6.9                    26%                 33 : 67   \n",
       "1                      11.6                    34%                   46:54   \n",
       "2                       7.8                    22%                   42:58   \n",
       "3                      11.8                    34%                   46:54   \n",
       "4                       9.0                    33%                 37 : 63   \n",
       "\n",
       "   Year female_ratio male_ratio  \n",
       "0  2016          33          67  \n",
       "1  2016           46         54  \n",
       "2  2016           42         58  \n",
       "3  2016           46         54  \n",
       "4  2016          37          63  "
      ]
     },
     "execution_count": 29,
     "metadata": {},
     "output_type": "execute_result"
    }
   ],
   "source": [
    "df_rank.head()"
   ]
  },
  {
   "cell_type": "code",
   "execution_count": 30,
   "id": "c7787c82",
   "metadata": {},
   "outputs": [],
   "source": [
    "df_rank.rename(columns = {'stats_pc_intl_students' : 'stats_intl_students_%'}, inplace = True)"
   ]
  },
  {
   "cell_type": "code",
   "execution_count": 31,
   "id": "0220949c",
   "metadata": {},
   "outputs": [],
   "source": [
    "df_rank.rename(columns = {'female_ratio' : 'female_%'}, inplace = True)"
   ]
  },
  {
   "cell_type": "code",
   "execution_count": 32,
   "id": "7595b38d",
   "metadata": {},
   "outputs": [],
   "source": [
    "df_rank.rename(columns = {'male_ratio' : 'male_%'}, inplace = True)"
   ]
  },
  {
   "cell_type": "code",
   "execution_count": 33,
   "id": "309cd470",
   "metadata": {},
   "outputs": [
    {
     "data": {
      "text/plain": [
       "nan          996\n",
       "0            600\n",
       "10.3–25.0    525\n",
       "10.6–22.3    461\n",
       "10.7–22.1    396\n",
       "            ... \n",
       "91.8           1\n",
       "91.1           1\n",
       "88.6           1\n",
       "74.7           1\n",
       "71.8           1\n",
       "Name: scores_overall, Length: 476, dtype: int64"
      ]
     },
     "execution_count": 33,
     "metadata": {},
     "output_type": "execute_result"
    }
   ],
   "source": [
    "df_rank['scores_overall'].value_counts(dropna=False)"
   ]
  },
  {
   "cell_type": "code",
   "execution_count": 34,
   "id": "9a23a1b3",
   "metadata": {},
   "outputs": [
    {
     "data": {
      "text/plain": [
       "55             534\n",
       "NaN            527\n",
       "56             513\n",
       "53             497\n",
       "57             496\n",
       "              ... \n",
       "88               1\n",
       "99               1\n",
       "0.274305556      1\n",
       "0.233333333      1\n",
       "85               1\n",
       "Name: female_%, Length: 94, dtype: int64"
      ]
     },
     "execution_count": 34,
     "metadata": {},
     "output_type": "execute_result"
    }
   ],
   "source": [
    "df_rank['female_%'].value_counts(dropna=False)"
   ]
  },
  {
   "cell_type": "code",
   "execution_count": 35,
   "id": "0b66c9a3",
   "metadata": {},
   "outputs": [
    {
     "data": {
      "text/html": [
       "<div>\n",
       "<style scoped>\n",
       "    .dataframe tbody tr th:only-of-type {\n",
       "        vertical-align: middle;\n",
       "    }\n",
       "\n",
       "    .dataframe tbody tr th {\n",
       "        vertical-align: top;\n",
       "    }\n",
       "\n",
       "    .dataframe thead th {\n",
       "        text-align: right;\n",
       "    }\n",
       "</style>\n",
       "<table border=\"1\" class=\"dataframe\">\n",
       "  <thead>\n",
       "    <tr style=\"text-align: right;\">\n",
       "      <th></th>\n",
       "      <th>LOCATION</th>\n",
       "      <th>INDICATOR</th>\n",
       "      <th>SUBJECT</th>\n",
       "      <th>MEASURE</th>\n",
       "      <th>TIME</th>\n",
       "      <th>Value</th>\n",
       "    </tr>\n",
       "  </thead>\n",
       "  <tbody>\n",
       "    <tr>\n",
       "      <th>0</th>\n",
       "      <td>AUS</td>\n",
       "      <td>EDUPUBEXP</td>\n",
       "      <td>TRY</td>\n",
       "      <td>PC_GDP</td>\n",
       "      <td>2000</td>\n",
       "      <td>0.744540</td>\n",
       "    </tr>\n",
       "    <tr>\n",
       "      <th>1</th>\n",
       "      <td>AUS</td>\n",
       "      <td>EDUPUBEXP</td>\n",
       "      <td>TRY</td>\n",
       "      <td>PC_GDP</td>\n",
       "      <td>2005</td>\n",
       "      <td>0.689385</td>\n",
       "    </tr>\n",
       "    <tr>\n",
       "      <th>2</th>\n",
       "      <td>AUS</td>\n",
       "      <td>EDUPUBEXP</td>\n",
       "      <td>TRY</td>\n",
       "      <td>PC_GDP</td>\n",
       "      <td>2008</td>\n",
       "      <td>0.689400</td>\n",
       "    </tr>\n",
       "    <tr>\n",
       "      <th>3</th>\n",
       "      <td>AUS</td>\n",
       "      <td>EDUPUBEXP</td>\n",
       "      <td>TRY</td>\n",
       "      <td>PC_GDP</td>\n",
       "      <td>2009</td>\n",
       "      <td>0.734759</td>\n",
       "    </tr>\n",
       "    <tr>\n",
       "      <th>4</th>\n",
       "      <td>AUS</td>\n",
       "      <td>EDUPUBEXP</td>\n",
       "      <td>TRY</td>\n",
       "      <td>PC_GDP</td>\n",
       "      <td>2010</td>\n",
       "      <td>0.778470</td>\n",
       "    </tr>\n",
       "    <tr>\n",
       "      <th>...</th>\n",
       "      <td>...</td>\n",
       "      <td>...</td>\n",
       "      <td>...</td>\n",
       "      <td>...</td>\n",
       "      <td>...</td>\n",
       "      <td>...</td>\n",
       "    </tr>\n",
       "    <tr>\n",
       "      <th>4980</th>\n",
       "      <td>ROU</td>\n",
       "      <td>EDUPRIVEXP</td>\n",
       "      <td>SRY</td>\n",
       "      <td>PC_GDP</td>\n",
       "      <td>2016</td>\n",
       "      <td>0.009614</td>\n",
       "    </tr>\n",
       "    <tr>\n",
       "      <th>4981</th>\n",
       "      <td>ROU</td>\n",
       "      <td>EDUPRIVEXP</td>\n",
       "      <td>SRY</td>\n",
       "      <td>PC_GDP</td>\n",
       "      <td>2017</td>\n",
       "      <td>0.008390</td>\n",
       "    </tr>\n",
       "    <tr>\n",
       "      <th>4982</th>\n",
       "      <td>ROU</td>\n",
       "      <td>EDUPRIVEXP</td>\n",
       "      <td>SRY</td>\n",
       "      <td>PC_GDP</td>\n",
       "      <td>2018</td>\n",
       "      <td>0.008427</td>\n",
       "    </tr>\n",
       "    <tr>\n",
       "      <th>4983</th>\n",
       "      <td>ROU</td>\n",
       "      <td>EDUPRIVEXP</td>\n",
       "      <td>SRY</td>\n",
       "      <td>PC_GDP</td>\n",
       "      <td>2019</td>\n",
       "      <td>0.007973</td>\n",
       "    </tr>\n",
       "    <tr>\n",
       "      <th>4984</th>\n",
       "      <td>ROU</td>\n",
       "      <td>EDUPRIVEXP</td>\n",
       "      <td>SRY</td>\n",
       "      <td>PC_GDP</td>\n",
       "      <td>2020</td>\n",
       "      <td>0.005315</td>\n",
       "    </tr>\n",
       "  </tbody>\n",
       "</table>\n",
       "<p>4985 rows × 6 columns</p>\n",
       "</div>"
      ],
      "text/plain": [
       "     LOCATION   INDICATOR SUBJECT MEASURE  TIME     Value\n",
       "0         AUS   EDUPUBEXP     TRY  PC_GDP  2000  0.744540\n",
       "1         AUS   EDUPUBEXP     TRY  PC_GDP  2005  0.689385\n",
       "2         AUS   EDUPUBEXP     TRY  PC_GDP  2008  0.689400\n",
       "3         AUS   EDUPUBEXP     TRY  PC_GDP  2009  0.734759\n",
       "4         AUS   EDUPUBEXP     TRY  PC_GDP  2010  0.778470\n",
       "...       ...         ...     ...     ...   ...       ...\n",
       "4980      ROU  EDUPRIVEXP     SRY  PC_GDP  2016  0.009614\n",
       "4981      ROU  EDUPRIVEXP     SRY  PC_GDP  2017  0.008390\n",
       "4982      ROU  EDUPRIVEXP     SRY  PC_GDP  2018  0.008427\n",
       "4983      ROU  EDUPRIVEXP     SRY  PC_GDP  2019  0.007973\n",
       "4984      ROU  EDUPRIVEXP     SRY  PC_GDP  2020  0.005315\n",
       "\n",
       "[4985 rows x 6 columns]"
      ]
     },
     "execution_count": 35,
     "metadata": {},
     "output_type": "execute_result"
    }
   ],
   "source": [
    "# Droping Column\n",
    "df_spending.drop(columns = ['FREQUENCY'])"
   ]
  },
  {
   "cell_type": "code",
   "execution_count": 36,
   "id": "d9caf209",
   "metadata": {},
   "outputs": [],
   "source": [
    "# Rename Columns\n",
    "df_spending.rename(columns = {'LOCATION' : 'Country'}, inplace = True)"
   ]
  },
  {
   "cell_type": "code",
   "execution_count": 37,
   "id": "af8f3245",
   "metadata": {},
   "outputs": [],
   "source": [
    "df_spending.rename(columns = {'INDICATOR' : 'Spending_Indicator'}, inplace = True)"
   ]
  },
  {
   "cell_type": "code",
   "execution_count": 38,
   "id": "99fb3b28",
   "metadata": {},
   "outputs": [],
   "source": [
    "df_spending.rename(columns = {'SUBJECT' : 'Type od Education'}, inplace = True)"
   ]
  },
  {
   "cell_type": "code",
   "execution_count": 39,
   "id": "c30f0c2c",
   "metadata": {},
   "outputs": [],
   "source": [
    "df_spending.rename(columns = {'MEASURE' : 'Measuring Spending'}, inplace = True)"
   ]
  },
  {
   "cell_type": "code",
   "execution_count": 40,
   "id": "8c6a2317",
   "metadata": {},
   "outputs": [],
   "source": [
    "df_spending.rename(columns = {'TIME' : 'Year'}, inplace = True)"
   ]
  },
  {
   "cell_type": "code",
   "execution_count": 41,
   "id": "7b2fc6ae",
   "metadata": {},
   "outputs": [],
   "source": [
    "#Replacing name of values\n",
    "df_spending['Country'] = df_spending['Country'].str.replace('AUS', 'Australia')"
   ]
  },
  {
   "cell_type": "code",
   "execution_count": 42,
   "id": "a5a09487",
   "metadata": {},
   "outputs": [],
   "source": [
    "df_spending['Country'] = df_spending['Country'].str.replace('ARG', 'Argentina')"
   ]
  },
  {
   "cell_type": "code",
   "execution_count": 43,
   "id": "4bed632e",
   "metadata": {},
   "outputs": [],
   "source": [
    "df_spending['Country'] = df_spending['Country'].str.replace('AUT', 'Austria')"
   ]
  },
  {
   "cell_type": "code",
   "execution_count": 44,
   "id": "645c64af",
   "metadata": {},
   "outputs": [],
   "source": [
    "df_spending['Country'] = df_spending['Country'].str.replace('BEL', 'Belgium')"
   ]
  },
  {
   "cell_type": "code",
   "execution_count": 45,
   "id": "4a0f473d",
   "metadata": {},
   "outputs": [],
   "source": [
    "df_spending['Country'] = df_spending['Country'].str.replace('BGR', 'Bulgaria')"
   ]
  },
  {
   "cell_type": "code",
   "execution_count": 46,
   "id": "c4d8b528",
   "metadata": {},
   "outputs": [],
   "source": [
    "df_spending['Country'] = df_spending['Country'].str.replace('BRA', 'Brazil')"
   ]
  },
  {
   "cell_type": "code",
   "execution_count": 47,
   "id": "561d07c7",
   "metadata": {},
   "outputs": [],
   "source": [
    "df_spending['Country'] = df_spending['Country'].str.replace('CAN', 'Canada')"
   ]
  },
  {
   "cell_type": "code",
   "execution_count": 48,
   "id": "4e1c8083",
   "metadata": {},
   "outputs": [],
   "source": [
    "df_spending['Country'] = df_spending['Country'].str.replace('CHE', 'Switzerland')"
   ]
  },
  {
   "cell_type": "code",
   "execution_count": 49,
   "id": "d47d70c9",
   "metadata": {},
   "outputs": [],
   "source": [
    "df_spending['Country'] = df_spending['Country'].str.replace('CHL', 'Chile')"
   ]
  },
  {
   "cell_type": "code",
   "execution_count": 50,
   "id": "b1cbe0f0",
   "metadata": {},
   "outputs": [],
   "source": [
    "df_spending['Country'] = df_spending['Country'].str.replace('COL', 'Columbia')"
   ]
  },
  {
   "cell_type": "code",
   "execution_count": 51,
   "id": "360e90c5",
   "metadata": {},
   "outputs": [],
   "source": [
    "df_spending['Country'] = df_spending['Country'].str.replace('CRI', 'Costa Rica')"
   ]
  },
  {
   "cell_type": "code",
   "execution_count": 52,
   "id": "827c428c",
   "metadata": {},
   "outputs": [],
   "source": [
    "df_spending['Country'] = df_spending['Country'].str.replace('CZE', 'Czech Republic')"
   ]
  },
  {
   "cell_type": "code",
   "execution_count": 53,
   "id": "087dbfa6",
   "metadata": {},
   "outputs": [],
   "source": [
    "df_spending['Country'] = df_spending['Country'].str.replace('DEU', 'Germany')"
   ]
  },
  {
   "cell_type": "code",
   "execution_count": 54,
   "id": "7db1394e",
   "metadata": {},
   "outputs": [],
   "source": [
    "df_spending['Country'] = df_spending['Country'].str.replace('DNK', 'Denmark')"
   ]
  },
  {
   "cell_type": "code",
   "execution_count": 55,
   "id": "edf2dfb6",
   "metadata": {},
   "outputs": [],
   "source": [
    "df_spending['Country'] = df_spending['Country'].str.replace('ESP', 'Spain')"
   ]
  },
  {
   "cell_type": "code",
   "execution_count": 56,
   "id": "1b1b0eb7",
   "metadata": {},
   "outputs": [],
   "source": [
    "df_spending['Country'] = df_spending['Country'].str.replace('EST', 'Estonia')"
   ]
  },
  {
   "cell_type": "code",
   "execution_count": 57,
   "id": "8db17545",
   "metadata": {},
   "outputs": [],
   "source": [
    "df_spending['Country'] = df_spending['Country'].str.replace('FIN', 'Finland')"
   ]
  },
  {
   "cell_type": "code",
   "execution_count": 58,
   "id": "f1f22c2c",
   "metadata": {},
   "outputs": [],
   "source": [
    "df_spending['Country'] = df_spending['Country'].str.replace('FRA', 'France')"
   ]
  },
  {
   "cell_type": "code",
   "execution_count": 59,
   "id": "71e5d099",
   "metadata": {},
   "outputs": [],
   "source": [
    "df_spending['Country'] = df_spending['Country'].str.replace('GBR', 'United Kingdom')"
   ]
  },
  {
   "cell_type": "code",
   "execution_count": 60,
   "id": "0c713261",
   "metadata": {},
   "outputs": [],
   "source": [
    "df_spending['Country'] = df_spending['Country'].str.replace('GRC', 'Greece')"
   ]
  },
  {
   "cell_type": "code",
   "execution_count": 61,
   "id": "59f767c4",
   "metadata": {},
   "outputs": [],
   "source": [
    "df_spending['Country'] = df_spending['Country'].str.replace('HRV', 'Croatia')"
   ]
  },
  {
   "cell_type": "code",
   "execution_count": 62,
   "id": "5c866684",
   "metadata": {},
   "outputs": [],
   "source": [
    "df_spending['Country'] = df_spending['Country'].str.replace('HUN', 'Hungary')"
   ]
  },
  {
   "cell_type": "code",
   "execution_count": 63,
   "id": "b1caf14c",
   "metadata": {},
   "outputs": [],
   "source": [
    "df_spending['Country'] = df_spending['Country'].str.replace('IDN', 'India')"
   ]
  },
  {
   "cell_type": "code",
   "execution_count": 64,
   "id": "ded61743",
   "metadata": {},
   "outputs": [],
   "source": [
    "df_spending['Country'] = df_spending['Country'].str.replace('IRL', 'Ireland')"
   ]
  },
  {
   "cell_type": "code",
   "execution_count": 65,
   "id": "f8a6a242",
   "metadata": {},
   "outputs": [],
   "source": [
    "df_spending['Country'] = df_spending['Country'].str.replace('ISL', 'Iceland')"
   ]
  },
  {
   "cell_type": "code",
   "execution_count": 66,
   "id": "ce3e0648",
   "metadata": {},
   "outputs": [],
   "source": [
    "df_spending['Country'] = df_spending['Country'].str.replace('ISR', 'Israel')"
   ]
  },
  {
   "cell_type": "code",
   "execution_count": 67,
   "id": "75d795d1",
   "metadata": {},
   "outputs": [],
   "source": [
    "df_spending['Country'] = df_spending['Country'].str.replace('ITA', 'Italy')"
   ]
  },
  {
   "cell_type": "code",
   "execution_count": 68,
   "id": "400820b4",
   "metadata": {},
   "outputs": [],
   "source": [
    "df_spending['Country'] = df_spending['Country'].str.replace('JPN', 'Japan')"
   ]
  },
  {
   "cell_type": "code",
   "execution_count": 69,
   "id": "c9ea93c7",
   "metadata": {},
   "outputs": [],
   "source": [
    "df_spending['Country'] = df_spending['Country'].str.replace('KOR', 'South Korea')"
   ]
  },
  {
   "cell_type": "code",
   "execution_count": 70,
   "id": "10510c71",
   "metadata": {},
   "outputs": [],
   "source": [
    "df_spending['Country'] = df_spending['Country'].str.replace('LTU', 'Lithuania')"
   ]
  },
  {
   "cell_type": "code",
   "execution_count": 71,
   "id": "5ff5a5d6",
   "metadata": {},
   "outputs": [],
   "source": [
    "df_spending['Country'] = df_spending['Country'].str.replace('LUX', 'Luxembourg')"
   ]
  },
  {
   "cell_type": "code",
   "execution_count": 72,
   "id": "98e022a7",
   "metadata": {},
   "outputs": [],
   "source": [
    "df_spending['Country'] = df_spending['Country'].str.replace('LVA', 'Latvia')"
   ]
  },
  {
   "cell_type": "code",
   "execution_count": 73,
   "id": "fc6df6a5",
   "metadata": {},
   "outputs": [],
   "source": [
    "df_spending['Country'] = df_spending['Country'].str.replace('MEX', 'Mexico')"
   ]
  },
  {
   "cell_type": "code",
   "execution_count": 74,
   "id": "ed9b1e9b",
   "metadata": {},
   "outputs": [],
   "source": [
    "df_spending['Country'] = df_spending['Country'].str.replace('NLD', 'Netherlands')"
   ]
  },
  {
   "cell_type": "code",
   "execution_count": 75,
   "id": "306ff539",
   "metadata": {},
   "outputs": [],
   "source": [
    "df_spending['Country'] = df_spending['Country'].str.replace('NOR', 'Norway')"
   ]
  },
  {
   "cell_type": "code",
   "execution_count": 76,
   "id": "218e9995",
   "metadata": {},
   "outputs": [],
   "source": [
    "df_spending['Country'] = df_spending['Country'].str.replace('NZL', 'New Zealand')"
   ]
  },
  {
   "cell_type": "code",
   "execution_count": 77,
   "id": "13bfc3f1",
   "metadata": {},
   "outputs": [],
   "source": [
    "df_spending['Country'] = df_spending['Country'].str.replace('PER', 'Peru')"
   ]
  },
  {
   "cell_type": "code",
   "execution_count": 78,
   "id": "cd777853",
   "metadata": {},
   "outputs": [],
   "source": [
    "df_spending['Country'] = df_spending['Country'].str.replace('POL', 'Poland')"
   ]
  },
  {
   "cell_type": "code",
   "execution_count": 79,
   "id": "2e9a202e",
   "metadata": {},
   "outputs": [],
   "source": [
    "df_spending['Country'] = df_spending['Country'].str.replace('PRT', 'Portugal')"
   ]
  },
  {
   "cell_type": "code",
   "execution_count": 80,
   "id": "d6e3ee4b",
   "metadata": {},
   "outputs": [],
   "source": [
    "df_spending['Country'] = df_spending['Country'].str.replace('ROU', 'Romania')"
   ]
  },
  {
   "cell_type": "code",
   "execution_count": 81,
   "id": "47ca369a",
   "metadata": {},
   "outputs": [],
   "source": [
    "df_spending['Country'] = df_spending['Country'].str.replace('RUS', 'Russian Federation')"
   ]
  },
  {
   "cell_type": "code",
   "execution_count": 82,
   "id": "da873a69",
   "metadata": {},
   "outputs": [],
   "source": [
    "df_spending['Country'] = df_spending['Country'].str.replace('SVK', 'Slovak Republic')"
   ]
  },
  {
   "cell_type": "code",
   "execution_count": 83,
   "id": "d8178618",
   "metadata": {},
   "outputs": [],
   "source": [
    "df_spending['Country'] = df_spending['Country'].str.replace('SVN', 'Slovenia')"
   ]
  },
  {
   "cell_type": "code",
   "execution_count": 84,
   "id": "3ec7c09a",
   "metadata": {},
   "outputs": [],
   "source": [
    "df_spending['Country'] = df_spending['Country'].str.replace('SWE', 'Sweden')"
   ]
  },
  {
   "cell_type": "code",
   "execution_count": 85,
   "id": "206e284f",
   "metadata": {},
   "outputs": [],
   "source": [
    "df_spending['Country'] = df_spending['Country'].str.replace('TUR', 'Turkey')"
   ]
  },
  {
   "cell_type": "code",
   "execution_count": 86,
   "id": "bd6745c7",
   "metadata": {},
   "outputs": [],
   "source": [
    "df_spending['Country'] = df_spending['Country'].str.replace('USA', 'United States')"
   ]
  },
  {
   "cell_type": "code",
   "execution_count": 87,
   "id": "2cfd964e",
   "metadata": {},
   "outputs": [],
   "source": [
    "df_spending['Country'] = df_spending['Country'].str.replace('ZAF', 'South Africa')"
   ]
  },
  {
   "cell_type": "code",
   "execution_count": 88,
   "id": "5a5751b7",
   "metadata": {},
   "outputs": [],
   "source": [
    "df_spending['Spending_Indicator'] = df_spending['Spending_Indicator'].str.replace('EDUPUBEXP', 'Public spending on education')"
   ]
  },
  {
   "cell_type": "code",
   "execution_count": 89,
   "id": "8622b014",
   "metadata": {},
   "outputs": [],
   "source": [
    "df_spending['Spending_Indicator'] = df_spending['Spending_Indicator'].str.replace('EDUPRIVEXP', 'Private spending on education')"
   ]
  },
  {
   "cell_type": "code",
   "execution_count": 90,
   "id": "a7463092",
   "metadata": {},
   "outputs": [],
   "source": [
    "df_spending['Type od Education'] = df_spending['Type od Education'].str.replace('TRY', 'Tertiary')"
   ]
  },
  {
   "cell_type": "code",
   "execution_count": 91,
   "id": "67814169",
   "metadata": {},
   "outputs": [],
   "source": [
    "df_spending['Type od Education'] = df_spending['Type od Education'].str.replace('PRY_NTRY', 'Primary to post-secondary non-tertiary')"
   ]
  },
  {
   "cell_type": "code",
   "execution_count": 92,
   "id": "aaa1e8ca",
   "metadata": {},
   "outputs": [],
   "source": [
    "df_spending['Type od Education'] = df_spending['Type od Education'].str.replace('PRY', 'Primary')"
   ]
  },
  {
   "cell_type": "code",
   "execution_count": 93,
   "id": "27c9882e",
   "metadata": {},
   "outputs": [],
   "source": [
    "df_spending['Type od Education'] = df_spending['Type od Education'].str.replace('PRY_TRY', 'Primary to tertiary')"
   ]
  },
  {
   "cell_type": "code",
   "execution_count": 94,
   "id": "a3bf6bea",
   "metadata": {},
   "outputs": [],
   "source": [
    "df_spending['Type od Education'] = df_spending['Type od Education'].str.replace('EARLYCHILDEDU', 'Early childhood education')"
   ]
  },
  {
   "cell_type": "code",
   "execution_count": 95,
   "id": "4cb33449",
   "metadata": {},
   "outputs": [],
   "source": [
    "df_spending['Type od Education'] = df_spending['Type od Education'].str.replace('PRY', 'Primary')"
   ]
  },
  {
   "cell_type": "code",
   "execution_count": 96,
   "id": "24708e5f",
   "metadata": {},
   "outputs": [],
   "source": [
    "df_spending['Type od Education'] = df_spending['Type od Education'].str.replace('PRY', 'Secondary')"
   ]
  },
  {
   "cell_type": "code",
   "execution_count": 97,
   "id": "4cface9e",
   "metadata": {},
   "outputs": [],
   "source": [
    "df_spending['Measuring Spending'] = df_spending['Measuring Spending'].str.replace('PC_GDP', '% of GDP')"
   ]
  },
  {
   "cell_type": "code",
   "execution_count": 98,
   "id": "a10debc8",
   "metadata": {},
   "outputs": [],
   "source": [
    "df_rank['scores_overall'] = df_rank['scores_overall'].str.replace('n/a', '0')"
   ]
  },
  {
   "cell_type": "code",
   "execution_count": 99,
   "id": "d1e76a70",
   "metadata": {},
   "outputs": [],
   "source": [
    "df_rank['scores_citations'] = df_rank['scores_citations'].str.replace('n/a', '0')"
   ]
  },
  {
   "cell_type": "code",
   "execution_count": 100,
   "id": "3b31b130",
   "metadata": {},
   "outputs": [],
   "source": [
    "df_rank['scores_industry_income'] = df_rank['scores_industry_income'].str.replace('n/a', '0')"
   ]
  },
  {
   "cell_type": "code",
   "execution_count": 101,
   "id": "c787b8bd",
   "metadata": {},
   "outputs": [],
   "source": [
    "df_rank['scores_international_outlook'] = df_rank['scores_international_outlook'].str.replace('n/a', '0')"
   ]
  },
  {
   "cell_type": "code",
   "execution_count": 102,
   "id": "8ce3992c",
   "metadata": {},
   "outputs": [],
   "source": [
    "df_rank['scores_research'] = df_rank['scores_research'].str.replace('n/a', '0')"
   ]
  },
  {
   "cell_type": "code",
   "execution_count": 103,
   "id": "30af9f18",
   "metadata": {},
   "outputs": [],
   "source": [
    "#replace factors with numeric\n",
    "\n",
    "df_rank['scores_teaching'] = df_rank['scores_teaching'].astype(float)"
   ]
  },
  {
   "cell_type": "code",
   "execution_count": 104,
   "id": "eea29a6e",
   "metadata": {},
   "outputs": [],
   "source": [
    "df_rank['scores_citations'] = df_rank['scores_citations'].astype(float)"
   ]
  },
  {
   "cell_type": "code",
   "execution_count": 105,
   "id": "5b1338df",
   "metadata": {},
   "outputs": [],
   "source": [
    "df_rank['scores_research'] = df_rank['scores_research'].astype(float)"
   ]
  },
  {
   "cell_type": "code",
   "execution_count": 106,
   "id": "5a391950",
   "metadata": {},
   "outputs": [],
   "source": [
    "df_rank['scores_international_outlook'] = df_rank['scores_international_outlook'].astype(float)"
   ]
  },
  {
   "cell_type": "code",
   "execution_count": 107,
   "id": "6e88b66e",
   "metadata": {},
   "outputs": [],
   "source": [
    "df_rank['scores_industry_income'] = df_rank['scores_industry_income'].astype(float)"
   ]
  },
  {
   "cell_type": "markdown",
   "id": "f7bd66c9",
   "metadata": {},
   "source": [
    "## Data Consistency Checks"
   ]
  },
  {
   "cell_type": "code",
   "execution_count": 108,
   "id": "a8b52a6a",
   "metadata": {},
   "outputs": [
    {
     "name": "stdout",
     "output_type": "stream",
     "text": [
      "stats_female_male_ratio\n",
      "female_%\n",
      "male_%\n"
     ]
    }
   ],
   "source": [
    "# Checking for Mixed-Type Data\n",
    "\n",
    "for col in df_rank.columns.tolist():\n",
    "  weird = (df_rank[[col]].applymap(type) != df_rank[[col]].iloc[0].apply(type)).any(axis = 1)\n",
    "  if len (df_rank[weird]) > 0:\n",
    "    print (col)"
   ]
  },
  {
   "cell_type": "code",
   "execution_count": 109,
   "id": "60490d5c",
   "metadata": {},
   "outputs": [],
   "source": [
    "df_rank['stats_female_male_ratio'] = df_rank['stats_female_male_ratio'].astype('str')"
   ]
  },
  {
   "cell_type": "code",
   "execution_count": 110,
   "id": "4e8ecde1",
   "metadata": {},
   "outputs": [],
   "source": [
    "df_rank['female_%'] = df_rank['female_%'].astype('str')"
   ]
  },
  {
   "cell_type": "code",
   "execution_count": 111,
   "id": "ad8e7c5e",
   "metadata": {},
   "outputs": [],
   "source": [
    "df_rank['male_%'] = df_rank['male_%'].astype('str')"
   ]
  },
  {
   "cell_type": "code",
   "execution_count": 112,
   "id": "ad4a57eb",
   "metadata": {},
   "outputs": [],
   "source": [
    "for col in df_rank.columns.tolist():\n",
    "  weird = (df_rank[[col]].applymap(type) != df_rank[[col]].iloc[0].apply(type)).any(axis = 1)\n",
    "  if len (df_rank[weird]) > 0:\n",
    "    print (col)"
   ]
  },
  {
   "cell_type": "code",
   "execution_count": 113,
   "id": "32b5860f",
   "metadata": {},
   "outputs": [
    {
     "data": {
      "text/plain": [
       "rank                              0\n",
       "name                              0\n",
       "location                          0\n",
       "scores_overall                    0\n",
       "scores_citations                996\n",
       "scores_industry_income          996\n",
       "scores_international_outlook    996\n",
       "scores_research                 996\n",
       "scores_teaching                 996\n",
       "stats_number_students             0\n",
       "stats_student_staff_ratio         0\n",
       "stats_intl_students_%             0\n",
       "stats_female_male_ratio           0\n",
       "Year                              0\n",
       "female_%                          0\n",
       "male_%                            0\n",
       "dtype: int64"
      ]
     },
     "execution_count": 113,
     "metadata": {},
     "output_type": "execute_result"
    }
   ],
   "source": [
    "# Checking for Missing Values\n",
    "\n",
    "df_rank.isnull().sum()"
   ]
  },
  {
   "cell_type": "code",
   "execution_count": 114,
   "id": "3f8ae0d6",
   "metadata": {},
   "outputs": [
    {
     "data": {
      "text/plain": [
       "Country               0\n",
       "Spending_Indicator    0\n",
       "Type od Education     0\n",
       "Measuring Spending    0\n",
       "FREQUENCY             0\n",
       "Year                  0\n",
       "Value                 0\n",
       "dtype: int64"
      ]
     },
     "execution_count": 114,
     "metadata": {},
     "output_type": "execute_result"
    }
   ],
   "source": [
    "df_spending.isnull().sum()"
   ]
  },
  {
   "cell_type": "code",
   "execution_count": 115,
   "id": "438c2e21",
   "metadata": {},
   "outputs": [],
   "source": [
    "# Checking for Duplicates\n",
    "df_rank_dups = df_rank[df_rank.duplicated()]"
   ]
  },
  {
   "cell_type": "code",
   "execution_count": 116,
   "id": "cea58d1b",
   "metadata": {},
   "outputs": [],
   "source": [
    "df_spending_dups = df_spending[df_spending.duplicated()]"
   ]
  },
  {
   "cell_type": "code",
   "execution_count": 117,
   "id": "650e74bf",
   "metadata": {
    "scrolled": true
   },
   "outputs": [
    {
     "data": {
      "text/html": [
       "<div>\n",
       "<style scoped>\n",
       "    .dataframe tbody tr th:only-of-type {\n",
       "        vertical-align: middle;\n",
       "    }\n",
       "\n",
       "    .dataframe tbody tr th {\n",
       "        vertical-align: top;\n",
       "    }\n",
       "\n",
       "    .dataframe thead th {\n",
       "        text-align: right;\n",
       "    }\n",
       "</style>\n",
       "<table border=\"1\" class=\"dataframe\">\n",
       "  <thead>\n",
       "    <tr style=\"text-align: right;\">\n",
       "      <th></th>\n",
       "      <th>Year</th>\n",
       "      <th>Value</th>\n",
       "    </tr>\n",
       "  </thead>\n",
       "  <tbody>\n",
       "    <tr>\n",
       "      <th>count</th>\n",
       "      <td>4985.000000</td>\n",
       "      <td>4985.000000</td>\n",
       "    </tr>\n",
       "    <tr>\n",
       "      <th>mean</th>\n",
       "      <td>2012.842728</td>\n",
       "      <td>4.238668</td>\n",
       "    </tr>\n",
       "    <tr>\n",
       "      <th>std</th>\n",
       "      <td>5.647673</td>\n",
       "      <td>90.393085</td>\n",
       "    </tr>\n",
       "    <tr>\n",
       "      <th>min</th>\n",
       "      <td>1995.000000</td>\n",
       "      <td>0.000000</td>\n",
       "    </tr>\n",
       "    <tr>\n",
       "      <th>25%</th>\n",
       "      <td>2010.000000</td>\n",
       "      <td>0.169392</td>\n",
       "    </tr>\n",
       "    <tr>\n",
       "      <th>50%</th>\n",
       "      <td>2014.000000</td>\n",
       "      <td>0.525967</td>\n",
       "    </tr>\n",
       "    <tr>\n",
       "      <th>75%</th>\n",
       "      <td>2017.000000</td>\n",
       "      <td>2.406744</td>\n",
       "    </tr>\n",
       "    <tr>\n",
       "      <th>max</th>\n",
       "      <td>2020.000000</td>\n",
       "      <td>4586.290000</td>\n",
       "    </tr>\n",
       "  </tbody>\n",
       "</table>\n",
       "</div>"
      ],
      "text/plain": [
       "              Year        Value\n",
       "count  4985.000000  4985.000000\n",
       "mean   2012.842728     4.238668\n",
       "std       5.647673    90.393085\n",
       "min    1995.000000     0.000000\n",
       "25%    2010.000000     0.169392\n",
       "50%    2014.000000     0.525967\n",
       "75%    2017.000000     2.406744\n",
       "max    2020.000000  4586.290000"
      ]
     },
     "execution_count": 117,
     "metadata": {},
     "output_type": "execute_result"
    }
   ],
   "source": [
    "df_spending.describe()"
   ]
  },
  {
   "cell_type": "code",
   "execution_count": 118,
   "id": "c4f5c71d",
   "metadata": {},
   "outputs": [
    {
     "data": {
      "text/plain": [
       "rank                            11522\n",
       "name                            11522\n",
       "location                        11522\n",
       "scores_overall                  11522\n",
       "scores_citations                10526\n",
       "scores_industry_income          10526\n",
       "scores_international_outlook    10526\n",
       "scores_research                 10526\n",
       "scores_teaching                 10526\n",
       "stats_number_students           11522\n",
       "stats_student_staff_ratio       11522\n",
       "stats_intl_students_%           11522\n",
       "stats_female_male_ratio         11522\n",
       "Year                            11522\n",
       "female_%                        11522\n",
       "male_%                          11522\n",
       "dtype: int64"
      ]
     },
     "execution_count": 118,
     "metadata": {},
     "output_type": "execute_result"
    }
   ],
   "source": [
    "df_rank.count()"
   ]
  },
  {
   "cell_type": "code",
   "execution_count": 119,
   "id": "3f889770",
   "metadata": {},
   "outputs": [],
   "source": [
    "df_rank = df_rank.replace(pd.NA, 0)"
   ]
  },
  {
   "cell_type": "code",
   "execution_count": 120,
   "id": "a0783826",
   "metadata": {},
   "outputs": [
    {
     "data": {
      "text/plain": [
       "rank                            11522\n",
       "name                            11522\n",
       "location                        11522\n",
       "scores_overall                  11522\n",
       "scores_citations                10526\n",
       "scores_industry_income          10526\n",
       "scores_international_outlook    10526\n",
       "scores_research                 10526\n",
       "scores_teaching                 10526\n",
       "stats_number_students           11522\n",
       "stats_student_staff_ratio       11522\n",
       "stats_intl_students_%           11522\n",
       "stats_female_male_ratio         11522\n",
       "Year                            11522\n",
       "female_%                        11522\n",
       "male_%                          11522\n",
       "dtype: int64"
      ]
     },
     "execution_count": 120,
     "metadata": {},
     "output_type": "execute_result"
    }
   ],
   "source": [
    "df_rank.count()"
   ]
  },
  {
   "cell_type": "code",
   "execution_count": 121,
   "id": "99b372e5",
   "metadata": {},
   "outputs": [
    {
     "data": {
      "text/html": [
       "<div>\n",
       "<style scoped>\n",
       "    .dataframe tbody tr th:only-of-type {\n",
       "        vertical-align: middle;\n",
       "    }\n",
       "\n",
       "    .dataframe tbody tr th {\n",
       "        vertical-align: top;\n",
       "    }\n",
       "\n",
       "    .dataframe thead th {\n",
       "        text-align: right;\n",
       "    }\n",
       "</style>\n",
       "<table border=\"1\" class=\"dataframe\">\n",
       "  <thead>\n",
       "    <tr style=\"text-align: right;\">\n",
       "      <th></th>\n",
       "      <th>scores_citations</th>\n",
       "      <th>scores_industry_income</th>\n",
       "      <th>scores_international_outlook</th>\n",
       "      <th>scores_research</th>\n",
       "      <th>scores_teaching</th>\n",
       "      <th>Year</th>\n",
       "    </tr>\n",
       "  </thead>\n",
       "  <tbody>\n",
       "    <tr>\n",
       "      <th>count</th>\n",
       "      <td>10526.000000</td>\n",
       "      <td>10526.000000</td>\n",
       "      <td>10526.000000</td>\n",
       "      <td>10526.000000</td>\n",
       "      <td>10526.000000</td>\n",
       "      <td>11522.000000</td>\n",
       "    </tr>\n",
       "    <tr>\n",
       "      <th>mean</th>\n",
       "      <td>29.936823</td>\n",
       "      <td>25.504019</td>\n",
       "      <td>48.432310</td>\n",
       "      <td>44.976363</td>\n",
       "      <td>45.906983</td>\n",
       "      <td>2020.275820</td>\n",
       "    </tr>\n",
       "    <tr>\n",
       "      <th>std</th>\n",
       "      <td>16.531236</td>\n",
       "      <td>18.818761</td>\n",
       "      <td>27.680549</td>\n",
       "      <td>17.615227</td>\n",
       "      <td>22.993406</td>\n",
       "      <td>2.234057</td>\n",
       "    </tr>\n",
       "    <tr>\n",
       "      <th>min</th>\n",
       "      <td>1.200000</td>\n",
       "      <td>0.000000</td>\n",
       "      <td>0.700000</td>\n",
       "      <td>0.000000</td>\n",
       "      <td>7.900000</td>\n",
       "      <td>2016.000000</td>\n",
       "    </tr>\n",
       "    <tr>\n",
       "      <th>25%</th>\n",
       "      <td>18.700000</td>\n",
       "      <td>11.800000</td>\n",
       "      <td>23.600000</td>\n",
       "      <td>35.300000</td>\n",
       "      <td>26.300000</td>\n",
       "      <td>2018.000000</td>\n",
       "    </tr>\n",
       "    <tr>\n",
       "      <th>50%</th>\n",
       "      <td>24.400000</td>\n",
       "      <td>19.200000</td>\n",
       "      <td>46.100000</td>\n",
       "      <td>39.000000</td>\n",
       "      <td>41.200000</td>\n",
       "      <td>2021.000000</td>\n",
       "    </tr>\n",
       "    <tr>\n",
       "      <th>75%</th>\n",
       "      <td>35.200000</td>\n",
       "      <td>32.800000</td>\n",
       "      <td>72.100000</td>\n",
       "      <td>48.600000</td>\n",
       "      <td>61.100000</td>\n",
       "      <td>2022.000000</td>\n",
       "    </tr>\n",
       "    <tr>\n",
       "      <th>max</th>\n",
       "      <td>100.000000</td>\n",
       "      <td>100.000000</td>\n",
       "      <td>100.000000</td>\n",
       "      <td>100.000000</td>\n",
       "      <td>100.000000</td>\n",
       "      <td>2023.000000</td>\n",
       "    </tr>\n",
       "  </tbody>\n",
       "</table>\n",
       "</div>"
      ],
      "text/plain": [
       "       scores_citations  scores_industry_income  scores_international_outlook  \\\n",
       "count      10526.000000            10526.000000                  10526.000000   \n",
       "mean          29.936823               25.504019                     48.432310   \n",
       "std           16.531236               18.818761                     27.680549   \n",
       "min            1.200000                0.000000                      0.700000   \n",
       "25%           18.700000               11.800000                     23.600000   \n",
       "50%           24.400000               19.200000                     46.100000   \n",
       "75%           35.200000               32.800000                     72.100000   \n",
       "max          100.000000              100.000000                    100.000000   \n",
       "\n",
       "       scores_research  scores_teaching          Year  \n",
       "count     10526.000000     10526.000000  11522.000000  \n",
       "mean         44.976363        45.906983   2020.275820  \n",
       "std          17.615227        22.993406      2.234057  \n",
       "min           0.000000         7.900000   2016.000000  \n",
       "25%          35.300000        26.300000   2018.000000  \n",
       "50%          39.000000        41.200000   2021.000000  \n",
       "75%          48.600000        61.100000   2022.000000  \n",
       "max         100.000000       100.000000   2023.000000  "
      ]
     },
     "execution_count": 121,
     "metadata": {},
     "output_type": "execute_result"
    }
   ],
   "source": [
    "df_rank.describe()"
   ]
  },
  {
   "cell_type": "code",
   "execution_count": 122,
   "id": "24331d81",
   "metadata": {},
   "outputs": [],
   "source": [
    "df_rank = df_rank.replace(pd.NA, None)"
   ]
  },
  {
   "cell_type": "code",
   "execution_count": 123,
   "id": "bf5d6155",
   "metadata": {},
   "outputs": [],
   "source": [
    "df_rank = df_rank.replace(pd.NA,-1)"
   ]
  },
  {
   "cell_type": "code",
   "execution_count": 124,
   "id": "a199d5c8",
   "metadata": {},
   "outputs": [],
   "source": [
    "df_rank['scores_overall'] = pd.to_numeric(df_rank['scores_overall'], errors='coerce').fillna(df_rank['scores_overall'])"
   ]
  },
  {
   "cell_type": "code",
   "execution_count": 125,
   "id": "38962632",
   "metadata": {},
   "outputs": [
    {
     "name": "stdout",
     "output_type": "stream",
     "text": [
      "           rank                                        name         location  \\\n",
      "8727   Reporter                Université 8 Mai 1945 Guelma          Algeria   \n",
      "8728   Reporter  University Abdelhamid Ibn Badis Mostaganem          Algeria   \n",
      "8729   Reporter                     Abdullah Gül University           Turkey   \n",
      "8730   Reporter                          Abertay University   United Kingdom   \n",
      "8731   Reporter                         Ada Kent University  Northern Cyprus   \n",
      "...         ...                                         ...              ...   \n",
      "11517  Reporter                     York St John University   United Kingdom   \n",
      "11518  Reporter         Yusuf Maitama Sule University, Kano          Nigeria   \n",
      "11519  Reporter       Zhytomyr Polytechnic State University          Ukraine   \n",
      "11520  Reporter                         Ziauddin University         Pakistan   \n",
      "11521  Reporter                            Zarqa University           Jordan   \n",
      "\n",
      "      scores_overall  scores_citations  scores_industry_income  \\\n",
      "8727             nan               NaN                     NaN   \n",
      "8728             nan               NaN                     NaN   \n",
      "8729             nan               NaN                     NaN   \n",
      "8730             nan               NaN                     NaN   \n",
      "8731             nan               NaN                     NaN   \n",
      "...              ...               ...                     ...   \n",
      "11517            nan               NaN                     NaN   \n",
      "11518            nan               NaN                     NaN   \n",
      "11519            nan               NaN                     NaN   \n",
      "11520            nan               NaN                     NaN   \n",
      "11521            nan               NaN                     NaN   \n",
      "\n",
      "       scores_international_outlook  scores_research  scores_teaching  \\\n",
      "8727                            NaN              NaN              NaN   \n",
      "8728                            NaN              NaN              NaN   \n",
      "8729                            NaN              NaN              NaN   \n",
      "8730                            NaN              NaN              NaN   \n",
      "8731                            NaN              NaN              NaN   \n",
      "...                             ...              ...              ...   \n",
      "11517                           NaN              NaN              NaN   \n",
      "11518                           NaN              NaN              NaN   \n",
      "11519                           NaN              NaN              NaN   \n",
      "11520                           NaN              NaN              NaN   \n",
      "11521                           NaN              NaN              NaN   \n",
      "\n",
      "      stats_number_students stats_student_staff_ratio stats_intl_students_%  \\\n",
      "8727                 16,105                      18.4                    1%   \n",
      "8728                 24,635                      19.3                    1%   \n",
      "8729                  1,958                      14.0                    9%   \n",
      "8730                  3,915                      21.2                   21%   \n",
      "8731                    640                       7.5                   21%   \n",
      "...                     ...                       ...                   ...   \n",
      "11517                 6,315                      18.6                   12%   \n",
      "11518                12,880                      33.0                    0%   \n",
      "11519                 3,869                      15.4                    1%   \n",
      "11520                 4,906                       8.8                    1%   \n",
      "11521                 5,768                      18.1                   32%   \n",
      "\n",
      "      stats_female_male_ratio  Year female_% male_%  \n",
      "8727                    69:31  2022       69     31  \n",
      "8728                    66:34  2022       66     34  \n",
      "8729                  38 : 62  2022      38      62  \n",
      "8730                    48:52  2022       48     52  \n",
      "8731                  34 : 66  2022      34      66  \n",
      "...                       ...   ...      ...    ...  \n",
      "11517                   65:35  2023       65     35  \n",
      "11518                   48:52  2023       48     52  \n",
      "11519                 34 : 66  2023      34      66  \n",
      "11520                   63:37  2023       63     37  \n",
      "11521                   47:53  2023       47     53  \n",
      "\n",
      "[996 rows x 16 columns]\n"
     ]
    }
   ],
   "source": [
    "print(df_rank[df_rank['scores_teaching'].isnull()])"
   ]
  },
  {
   "cell_type": "code",
   "execution_count": 126,
   "id": "0e133ecb",
   "metadata": {},
   "outputs": [],
   "source": [
    "# Change float to int\n",
    "\n",
    "df_rank = df_rank.dropna()"
   ]
  },
  {
   "cell_type": "code",
   "execution_count": 127,
   "id": "d1341f3b",
   "metadata": {},
   "outputs": [],
   "source": [
    "df_rank['scores_teaching'] = df_rank['scores_teaching'].astype(int)"
   ]
  },
  {
   "cell_type": "code",
   "execution_count": 128,
   "id": "a580ea19",
   "metadata": {},
   "outputs": [],
   "source": [
    "df_rank['scores_citations'] = df_rank['scores_citations'].astype(int)"
   ]
  },
  {
   "cell_type": "code",
   "execution_count": 129,
   "id": "a618899c",
   "metadata": {},
   "outputs": [],
   "source": [
    "df_rank['scores_research'] = df_rank['scores_research'].astype(int)"
   ]
  },
  {
   "cell_type": "code",
   "execution_count": 130,
   "id": "7dd836af",
   "metadata": {},
   "outputs": [],
   "source": [
    "df_rank['scores_industry_income'] = df_rank['scores_industry_income'].astype(int)"
   ]
  },
  {
   "cell_type": "code",
   "execution_count": 131,
   "id": "bf52ebfc",
   "metadata": {},
   "outputs": [],
   "source": [
    "df_rank['scores_international_outlook'] = df_rank['scores_international_outlook'].astype(int)"
   ]
  },
  {
   "cell_type": "code",
   "execution_count": 132,
   "id": "4eaa40b9",
   "metadata": {},
   "outputs": [
    {
     "name": "stdout",
     "output_type": "stream",
     "text": [
      "<class 'pandas.core.frame.DataFrame'>\n",
      "Int64Index: 10526 entries, 0 to 10975\n",
      "Data columns (total 16 columns):\n",
      " #   Column                        Non-Null Count  Dtype \n",
      "---  ------                        --------------  ----- \n",
      " 0   rank                          10526 non-null  object\n",
      " 1   name                          10526 non-null  object\n",
      " 2   location                      10526 non-null  object\n",
      " 3   scores_overall                10526 non-null  object\n",
      " 4   scores_citations              10526 non-null  int32 \n",
      " 5   scores_industry_income        10526 non-null  int32 \n",
      " 6   scores_international_outlook  10526 non-null  int32 \n",
      " 7   scores_research               10526 non-null  int32 \n",
      " 8   scores_teaching               10526 non-null  int32 \n",
      " 9   stats_number_students         10526 non-null  object\n",
      " 10  stats_student_staff_ratio     10526 non-null  object\n",
      " 11  stats_intl_students_%         10526 non-null  object\n",
      " 12  stats_female_male_ratio       10526 non-null  object\n",
      " 13  Year                          10526 non-null  int64 \n",
      " 14  female_%                      10526 non-null  object\n",
      " 15  male_%                        10526 non-null  object\n",
      "dtypes: int32(5), int64(1), object(10)\n",
      "memory usage: 1.2+ MB\n"
     ]
    }
   ],
   "source": [
    "df_rank.info()"
   ]
  },
  {
   "cell_type": "code",
   "execution_count": 133,
   "id": "e38b12fc",
   "metadata": {},
   "outputs": [],
   "source": [
    "df_rank['Year'] = df_rank['Year'].astype(str)"
   ]
  },
  {
   "cell_type": "code",
   "execution_count": 134,
   "id": "d48968be",
   "metadata": {},
   "outputs": [],
   "source": [
    "df_rank['stats_intl_students_%'] = df_rank['stats_intl_students_%'].str.rstrip('%')"
   ]
  },
  {
   "cell_type": "code",
   "execution_count": 135,
   "id": "747533ab",
   "metadata": {},
   "outputs": [],
   "source": [
    "df_rank['stats_number_students'] = df_rank['stats_number_students'].str.replace(',', '.')"
   ]
  },
  {
   "cell_type": "code",
   "execution_count": 136,
   "id": "56c6b70f",
   "metadata": {},
   "outputs": [],
   "source": [
    "df_rank['scores_overall'] = pd.to_numeric(df_rank['scores_overall'], errors='coerce').fillna(df_rank['scores_overall'])"
   ]
  },
  {
   "cell_type": "code",
   "execution_count": 137,
   "id": "e2df828c",
   "metadata": {
    "scrolled": true
   },
   "outputs": [],
   "source": [
    "df_rank['stats_student_staff_ratio'] = df_rank['stats_student_staff_ratio'].astype('float')"
   ]
  },
  {
   "cell_type": "code",
   "execution_count": 138,
   "id": "c53ead97",
   "metadata": {},
   "outputs": [],
   "source": [
    "df_rank['male_%'] = df_rank['male_%'].str.rstrip('none')"
   ]
  },
  {
   "cell_type": "code",
   "execution_count": 139,
   "id": "6a3c0188",
   "metadata": {},
   "outputs": [],
   "source": [
    "df_rank['male_%'] = df_rank['male_%'].str.rstrip('na')"
   ]
  },
  {
   "cell_type": "code",
   "execution_count": 140,
   "id": "1d94f572",
   "metadata": {},
   "outputs": [
    {
     "data": {
      "text/html": [
       "<div>\n",
       "<style scoped>\n",
       "    .dataframe tbody tr th:only-of-type {\n",
       "        vertical-align: middle;\n",
       "    }\n",
       "\n",
       "    .dataframe tbody tr th {\n",
       "        vertical-align: top;\n",
       "    }\n",
       "\n",
       "    .dataframe thead th {\n",
       "        text-align: right;\n",
       "    }\n",
       "</style>\n",
       "<table border=\"1\" class=\"dataframe\">\n",
       "  <thead>\n",
       "    <tr style=\"text-align: right;\">\n",
       "      <th></th>\n",
       "      <th>rank</th>\n",
       "      <th>name</th>\n",
       "      <th>location</th>\n",
       "      <th>scores_overall</th>\n",
       "      <th>scores_citations</th>\n",
       "      <th>scores_industry_income</th>\n",
       "      <th>scores_international_outlook</th>\n",
       "      <th>scores_research</th>\n",
       "      <th>scores_teaching</th>\n",
       "      <th>stats_number_students</th>\n",
       "      <th>stats_student_staff_ratio</th>\n",
       "      <th>stats_intl_students_%</th>\n",
       "      <th>stats_female_male_ratio</th>\n",
       "      <th>Year</th>\n",
       "      <th>female_%</th>\n",
       "      <th>male_%</th>\n",
       "    </tr>\n",
       "  </thead>\n",
       "  <tbody>\n",
       "    <tr>\n",
       "      <th>0</th>\n",
       "      <td>1</td>\n",
       "      <td>California Institute of Technology</td>\n",
       "      <td>United States</td>\n",
       "      <td>95.2</td>\n",
       "      <td>99</td>\n",
       "      <td>97</td>\n",
       "      <td>64</td>\n",
       "      <td>97</td>\n",
       "      <td>95</td>\n",
       "      <td>2.243</td>\n",
       "      <td>6.9</td>\n",
       "      <td>26</td>\n",
       "      <td>33 : 67</td>\n",
       "      <td>2016</td>\n",
       "      <td>33</td>\n",
       "      <td>67</td>\n",
       "    </tr>\n",
       "    <tr>\n",
       "      <th>1</th>\n",
       "      <td>2</td>\n",
       "      <td>University of Oxford</td>\n",
       "      <td>United Kingdom</td>\n",
       "      <td>94.2</td>\n",
       "      <td>98</td>\n",
       "      <td>73</td>\n",
       "      <td>94</td>\n",
       "      <td>98</td>\n",
       "      <td>86</td>\n",
       "      <td>19.920</td>\n",
       "      <td>11.6</td>\n",
       "      <td>34</td>\n",
       "      <td>46:54</td>\n",
       "      <td>2016</td>\n",
       "      <td>46</td>\n",
       "      <td>54</td>\n",
       "    </tr>\n",
       "    <tr>\n",
       "      <th>2</th>\n",
       "      <td>3</td>\n",
       "      <td>Stanford University</td>\n",
       "      <td>United States</td>\n",
       "      <td>93.9</td>\n",
       "      <td>99</td>\n",
       "      <td>63</td>\n",
       "      <td>76</td>\n",
       "      <td>96</td>\n",
       "      <td>92</td>\n",
       "      <td>15.596</td>\n",
       "      <td>7.8</td>\n",
       "      <td>22</td>\n",
       "      <td>42:58</td>\n",
       "      <td>2016</td>\n",
       "      <td>42</td>\n",
       "      <td>58</td>\n",
       "    </tr>\n",
       "    <tr>\n",
       "      <th>3</th>\n",
       "      <td>4</td>\n",
       "      <td>University of Cambridge</td>\n",
       "      <td>United Kingdom</td>\n",
       "      <td>92.8</td>\n",
       "      <td>97</td>\n",
       "      <td>55</td>\n",
       "      <td>91</td>\n",
       "      <td>96</td>\n",
       "      <td>88</td>\n",
       "      <td>18.810</td>\n",
       "      <td>11.8</td>\n",
       "      <td>34</td>\n",
       "      <td>46:54</td>\n",
       "      <td>2016</td>\n",
       "      <td>46</td>\n",
       "      <td>54</td>\n",
       "    </tr>\n",
       "    <tr>\n",
       "      <th>4</th>\n",
       "      <td>5</td>\n",
       "      <td>Massachusetts Institute of Technology</td>\n",
       "      <td>United States</td>\n",
       "      <td>92.0</td>\n",
       "      <td>99</td>\n",
       "      <td>95</td>\n",
       "      <td>84</td>\n",
       "      <td>88</td>\n",
       "      <td>89</td>\n",
       "      <td>11.074</td>\n",
       "      <td>9.0</td>\n",
       "      <td>33</td>\n",
       "      <td>37 : 63</td>\n",
       "      <td>2016</td>\n",
       "      <td>37</td>\n",
       "      <td>63</td>\n",
       "    </tr>\n",
       "  </tbody>\n",
       "</table>\n",
       "</div>"
      ],
      "text/plain": [
       "  rank                                   name        location scores_overall  \\\n",
       "0    1     California Institute of Technology   United States           95.2   \n",
       "1    2                   University of Oxford  United Kingdom           94.2   \n",
       "2    3                    Stanford University   United States           93.9   \n",
       "3    4                University of Cambridge  United Kingdom           92.8   \n",
       "4    5  Massachusetts Institute of Technology   United States           92.0   \n",
       "\n",
       "   scores_citations  scores_industry_income  scores_international_outlook  \\\n",
       "0                99                      97                            64   \n",
       "1                98                      73                            94   \n",
       "2                99                      63                            76   \n",
       "3                97                      55                            91   \n",
       "4                99                      95                            84   \n",
       "\n",
       "   scores_research  scores_teaching stats_number_students  \\\n",
       "0               97               95                 2.243   \n",
       "1               98               86                19.920   \n",
       "2               96               92                15.596   \n",
       "3               96               88                18.810   \n",
       "4               88               89                11.074   \n",
       "\n",
       "   stats_student_staff_ratio stats_intl_students_% stats_female_male_ratio  \\\n",
       "0                        6.9                    26                 33 : 67   \n",
       "1                       11.6                    34                   46:54   \n",
       "2                        7.8                    22                   42:58   \n",
       "3                       11.8                    34                   46:54   \n",
       "4                        9.0                    33                 37 : 63   \n",
       "\n",
       "   Year female_% male_%  \n",
       "0  2016      33      67  \n",
       "1  2016       46     54  \n",
       "2  2016       42     58  \n",
       "3  2016       46     54  \n",
       "4  2016      37      63  "
      ]
     },
     "execution_count": 140,
     "metadata": {},
     "output_type": "execute_result"
    }
   ],
   "source": [
    "df_rank.head()"
   ]
  },
  {
   "cell_type": "code",
   "execution_count": 141,
   "id": "4533bf67",
   "metadata": {},
   "outputs": [
    {
     "data": {
      "text/html": [
       "<div>\n",
       "<style scoped>\n",
       "    .dataframe tbody tr th:only-of-type {\n",
       "        vertical-align: middle;\n",
       "    }\n",
       "\n",
       "    .dataframe tbody tr th {\n",
       "        vertical-align: top;\n",
       "    }\n",
       "\n",
       "    .dataframe thead th {\n",
       "        text-align: right;\n",
       "    }\n",
       "</style>\n",
       "<table border=\"1\" class=\"dataframe\">\n",
       "  <thead>\n",
       "    <tr style=\"text-align: right;\">\n",
       "      <th></th>\n",
       "      <th>Country</th>\n",
       "      <th>Spending_Indicator</th>\n",
       "      <th>Type od Education</th>\n",
       "      <th>Measuring Spending</th>\n",
       "      <th>FREQUENCY</th>\n",
       "      <th>Year</th>\n",
       "      <th>Value</th>\n",
       "    </tr>\n",
       "  </thead>\n",
       "  <tbody>\n",
       "    <tr>\n",
       "      <th>0</th>\n",
       "      <td>Australia</td>\n",
       "      <td>Public spending on education</td>\n",
       "      <td>Tertiary</td>\n",
       "      <td>% of GDP</td>\n",
       "      <td>A</td>\n",
       "      <td>2000</td>\n",
       "      <td>0.744540</td>\n",
       "    </tr>\n",
       "    <tr>\n",
       "      <th>1</th>\n",
       "      <td>Australia</td>\n",
       "      <td>Public spending on education</td>\n",
       "      <td>Tertiary</td>\n",
       "      <td>% of GDP</td>\n",
       "      <td>A</td>\n",
       "      <td>2005</td>\n",
       "      <td>0.689385</td>\n",
       "    </tr>\n",
       "    <tr>\n",
       "      <th>2</th>\n",
       "      <td>Australia</td>\n",
       "      <td>Public spending on education</td>\n",
       "      <td>Tertiary</td>\n",
       "      <td>% of GDP</td>\n",
       "      <td>A</td>\n",
       "      <td>2008</td>\n",
       "      <td>0.689400</td>\n",
       "    </tr>\n",
       "    <tr>\n",
       "      <th>3</th>\n",
       "      <td>Australia</td>\n",
       "      <td>Public spending on education</td>\n",
       "      <td>Tertiary</td>\n",
       "      <td>% of GDP</td>\n",
       "      <td>A</td>\n",
       "      <td>2009</td>\n",
       "      <td>0.734759</td>\n",
       "    </tr>\n",
       "    <tr>\n",
       "      <th>4</th>\n",
       "      <td>Australia</td>\n",
       "      <td>Public spending on education</td>\n",
       "      <td>Tertiary</td>\n",
       "      <td>% of GDP</td>\n",
       "      <td>A</td>\n",
       "      <td>2010</td>\n",
       "      <td>0.778470</td>\n",
       "    </tr>\n",
       "  </tbody>\n",
       "</table>\n",
       "</div>"
      ],
      "text/plain": [
       "     Country            Spending_Indicator Type od Education  \\\n",
       "0  Australia  Public spending on education          Tertiary   \n",
       "1  Australia  Public spending on education          Tertiary   \n",
       "2  Australia  Public spending on education          Tertiary   \n",
       "3  Australia  Public spending on education          Tertiary   \n",
       "4  Australia  Public spending on education          Tertiary   \n",
       "\n",
       "  Measuring Spending FREQUENCY  Year     Value  \n",
       "0           % of GDP         A  2000  0.744540  \n",
       "1           % of GDP         A  2005  0.689385  \n",
       "2           % of GDP         A  2008  0.689400  \n",
       "3           % of GDP         A  2009  0.734759  \n",
       "4           % of GDP         A  2010  0.778470  "
      ]
     },
     "execution_count": 141,
     "metadata": {},
     "output_type": "execute_result"
    }
   ],
   "source": [
    "df_spending.head()"
   ]
  },
  {
   "cell_type": "code",
   "execution_count": 142,
   "id": "6e760ae6",
   "metadata": {},
   "outputs": [],
   "source": [
    "df_rank.rename(columns = {'location' : 'Country'}, inplace = True)"
   ]
  },
  {
   "cell_type": "code",
   "execution_count": 143,
   "id": "8e975020",
   "metadata": {},
   "outputs": [],
   "source": [
    "df_spending['Year'] = df_spending['Year'].astype(str)"
   ]
  },
  {
   "cell_type": "code",
   "execution_count": 144,
   "id": "dd23f97b",
   "metadata": {
    "scrolled": false
   },
   "outputs": [
    {
     "data": {
      "text/html": [
       "<div>\n",
       "<style scoped>\n",
       "    .dataframe tbody tr th:only-of-type {\n",
       "        vertical-align: middle;\n",
       "    }\n",
       "\n",
       "    .dataframe tbody tr th {\n",
       "        vertical-align: top;\n",
       "    }\n",
       "\n",
       "    .dataframe thead th {\n",
       "        text-align: right;\n",
       "    }\n",
       "</style>\n",
       "<table border=\"1\" class=\"dataframe\">\n",
       "  <thead>\n",
       "    <tr style=\"text-align: right;\">\n",
       "      <th></th>\n",
       "      <th>rank</th>\n",
       "      <th>name</th>\n",
       "      <th>Country</th>\n",
       "      <th>scores_overall</th>\n",
       "      <th>scores_citations</th>\n",
       "      <th>scores_industry_income</th>\n",
       "      <th>scores_international_outlook</th>\n",
       "      <th>scores_research</th>\n",
       "      <th>scores_teaching</th>\n",
       "      <th>stats_number_students</th>\n",
       "      <th>stats_student_staff_ratio</th>\n",
       "      <th>stats_intl_students_%</th>\n",
       "      <th>stats_female_male_ratio</th>\n",
       "      <th>Year</th>\n",
       "      <th>female_%</th>\n",
       "      <th>male_%</th>\n",
       "    </tr>\n",
       "  </thead>\n",
       "  <tbody>\n",
       "    <tr>\n",
       "      <th>0</th>\n",
       "      <td>1</td>\n",
       "      <td>California Institute of Technology</td>\n",
       "      <td>United States</td>\n",
       "      <td>95.2</td>\n",
       "      <td>99</td>\n",
       "      <td>97</td>\n",
       "      <td>64</td>\n",
       "      <td>97</td>\n",
       "      <td>95</td>\n",
       "      <td>2.243</td>\n",
       "      <td>6.9</td>\n",
       "      <td>26</td>\n",
       "      <td>33 : 67</td>\n",
       "      <td>2016</td>\n",
       "      <td>33</td>\n",
       "      <td>67</td>\n",
       "    </tr>\n",
       "    <tr>\n",
       "      <th>1</th>\n",
       "      <td>2</td>\n",
       "      <td>University of Oxford</td>\n",
       "      <td>United Kingdom</td>\n",
       "      <td>94.2</td>\n",
       "      <td>98</td>\n",
       "      <td>73</td>\n",
       "      <td>94</td>\n",
       "      <td>98</td>\n",
       "      <td>86</td>\n",
       "      <td>19.920</td>\n",
       "      <td>11.6</td>\n",
       "      <td>34</td>\n",
       "      <td>46:54</td>\n",
       "      <td>2016</td>\n",
       "      <td>46</td>\n",
       "      <td>54</td>\n",
       "    </tr>\n",
       "    <tr>\n",
       "      <th>2</th>\n",
       "      <td>3</td>\n",
       "      <td>Stanford University</td>\n",
       "      <td>United States</td>\n",
       "      <td>93.9</td>\n",
       "      <td>99</td>\n",
       "      <td>63</td>\n",
       "      <td>76</td>\n",
       "      <td>96</td>\n",
       "      <td>92</td>\n",
       "      <td>15.596</td>\n",
       "      <td>7.8</td>\n",
       "      <td>22</td>\n",
       "      <td>42:58</td>\n",
       "      <td>2016</td>\n",
       "      <td>42</td>\n",
       "      <td>58</td>\n",
       "    </tr>\n",
       "    <tr>\n",
       "      <th>3</th>\n",
       "      <td>4</td>\n",
       "      <td>University of Cambridge</td>\n",
       "      <td>United Kingdom</td>\n",
       "      <td>92.8</td>\n",
       "      <td>97</td>\n",
       "      <td>55</td>\n",
       "      <td>91</td>\n",
       "      <td>96</td>\n",
       "      <td>88</td>\n",
       "      <td>18.810</td>\n",
       "      <td>11.8</td>\n",
       "      <td>34</td>\n",
       "      <td>46:54</td>\n",
       "      <td>2016</td>\n",
       "      <td>46</td>\n",
       "      <td>54</td>\n",
       "    </tr>\n",
       "    <tr>\n",
       "      <th>4</th>\n",
       "      <td>5</td>\n",
       "      <td>Massachusetts Institute of Technology</td>\n",
       "      <td>United States</td>\n",
       "      <td>92.0</td>\n",
       "      <td>99</td>\n",
       "      <td>95</td>\n",
       "      <td>84</td>\n",
       "      <td>88</td>\n",
       "      <td>89</td>\n",
       "      <td>11.074</td>\n",
       "      <td>9.0</td>\n",
       "      <td>33</td>\n",
       "      <td>37 : 63</td>\n",
       "      <td>2016</td>\n",
       "      <td>37</td>\n",
       "      <td>63</td>\n",
       "    </tr>\n",
       "  </tbody>\n",
       "</table>\n",
       "</div>"
      ],
      "text/plain": [
       "  rank                                   name         Country scores_overall  \\\n",
       "0    1     California Institute of Technology   United States           95.2   \n",
       "1    2                   University of Oxford  United Kingdom           94.2   \n",
       "2    3                    Stanford University   United States           93.9   \n",
       "3    4                University of Cambridge  United Kingdom           92.8   \n",
       "4    5  Massachusetts Institute of Technology   United States           92.0   \n",
       "\n",
       "   scores_citations  scores_industry_income  scores_international_outlook  \\\n",
       "0                99                      97                            64   \n",
       "1                98                      73                            94   \n",
       "2                99                      63                            76   \n",
       "3                97                      55                            91   \n",
       "4                99                      95                            84   \n",
       "\n",
       "   scores_research  scores_teaching stats_number_students  \\\n",
       "0               97               95                 2.243   \n",
       "1               98               86                19.920   \n",
       "2               96               92                15.596   \n",
       "3               96               88                18.810   \n",
       "4               88               89                11.074   \n",
       "\n",
       "   stats_student_staff_ratio stats_intl_students_% stats_female_male_ratio  \\\n",
       "0                        6.9                    26                 33 : 67   \n",
       "1                       11.6                    34                   46:54   \n",
       "2                        7.8                    22                   42:58   \n",
       "3                       11.8                    34                   46:54   \n",
       "4                        9.0                    33                 37 : 63   \n",
       "\n",
       "   Year female_% male_%  \n",
       "0  2016      33      67  \n",
       "1  2016       46     54  \n",
       "2  2016       42     58  \n",
       "3  2016       46     54  \n",
       "4  2016      37      63  "
      ]
     },
     "execution_count": 144,
     "metadata": {},
     "output_type": "execute_result"
    }
   ],
   "source": [
    "df_rank.head()"
   ]
  },
  {
   "cell_type": "code",
   "execution_count": 148,
   "id": "f3d3b1d3",
   "metadata": {},
   "outputs": [
    {
     "name": "stdout",
     "output_type": "stream",
     "text": [
      "<class 'pandas.core.frame.DataFrame'>\n",
      "Int64Index: 10526 entries, 0 to 10975\n",
      "Data columns (total 16 columns):\n",
      " #   Column                        Non-Null Count  Dtype  \n",
      "---  ------                        --------------  -----  \n",
      " 0   rank                          10526 non-null  object \n",
      " 1   name                          10526 non-null  object \n",
      " 2   Country                       10526 non-null  object \n",
      " 3   scores_overall                10526 non-null  object \n",
      " 4   scores_citations              10526 non-null  int32  \n",
      " 5   scores_industry_income        10526 non-null  int32  \n",
      " 6   scores_international_outlook  10526 non-null  int32  \n",
      " 7   scores_research               10526 non-null  int32  \n",
      " 8   scores_teaching               10526 non-null  int32  \n",
      " 9   stats_number_students         10526 non-null  object \n",
      " 10  stats_student_staff_ratio     10526 non-null  float64\n",
      " 11  stats_intl_students_%         10526 non-null  object \n",
      " 12  stats_female_male_ratio       10526 non-null  object \n",
      " 13  Year                          10526 non-null  object \n",
      " 14  female_%                      10526 non-null  object \n",
      " 15  male_%                        10526 non-null  object \n",
      "dtypes: float64(1), int32(5), object(10)\n",
      "memory usage: 1.2+ MB\n"
     ]
    }
   ],
   "source": [
    "df_rank.info()"
   ]
  },
  {
   "cell_type": "code",
   "execution_count": 149,
   "id": "a960864e",
   "metadata": {},
   "outputs": [
    {
     "name": "stdout",
     "output_type": "stream",
     "text": [
      "<class 'pandas.core.frame.DataFrame'>\n",
      "RangeIndex: 4985 entries, 0 to 4984\n",
      "Data columns (total 7 columns):\n",
      " #   Column              Non-Null Count  Dtype  \n",
      "---  ------              --------------  -----  \n",
      " 0   Country             4985 non-null   object \n",
      " 1   Spending_Indicator  4985 non-null   object \n",
      " 2   Type od Education   4985 non-null   object \n",
      " 3   Measuring Spending  4985 non-null   object \n",
      " 4   FREQUENCY           4985 non-null   object \n",
      " 5   Year                4985 non-null   object \n",
      " 6   Value               4985 non-null   float64\n",
      "dtypes: float64(1), object(6)\n",
      "memory usage: 272.7+ KB\n"
     ]
    }
   ],
   "source": [
    "df_spending.info()"
   ]
  },
  {
   "cell_type": "code",
   "execution_count": 150,
   "id": "54716003",
   "metadata": {},
   "outputs": [
    {
     "data": {
      "text/html": [
       "<div>\n",
       "<style scoped>\n",
       "    .dataframe tbody tr th:only-of-type {\n",
       "        vertical-align: middle;\n",
       "    }\n",
       "\n",
       "    .dataframe tbody tr th {\n",
       "        vertical-align: top;\n",
       "    }\n",
       "\n",
       "    .dataframe thead th {\n",
       "        text-align: right;\n",
       "    }\n",
       "</style>\n",
       "<table border=\"1\" class=\"dataframe\">\n",
       "  <thead>\n",
       "    <tr style=\"text-align: right;\">\n",
       "      <th></th>\n",
       "      <th>Country</th>\n",
       "      <th>Spending_Indicator</th>\n",
       "      <th>Type od Education</th>\n",
       "      <th>Measuring Spending</th>\n",
       "      <th>Year</th>\n",
       "      <th>Value</th>\n",
       "    </tr>\n",
       "  </thead>\n",
       "  <tbody>\n",
       "    <tr>\n",
       "      <th>0</th>\n",
       "      <td>Australia</td>\n",
       "      <td>Public spending on education</td>\n",
       "      <td>Tertiary</td>\n",
       "      <td>% of GDP</td>\n",
       "      <td>2000</td>\n",
       "      <td>0.744540</td>\n",
       "    </tr>\n",
       "    <tr>\n",
       "      <th>1</th>\n",
       "      <td>Australia</td>\n",
       "      <td>Public spending on education</td>\n",
       "      <td>Tertiary</td>\n",
       "      <td>% of GDP</td>\n",
       "      <td>2005</td>\n",
       "      <td>0.689385</td>\n",
       "    </tr>\n",
       "    <tr>\n",
       "      <th>2</th>\n",
       "      <td>Australia</td>\n",
       "      <td>Public spending on education</td>\n",
       "      <td>Tertiary</td>\n",
       "      <td>% of GDP</td>\n",
       "      <td>2008</td>\n",
       "      <td>0.689400</td>\n",
       "    </tr>\n",
       "    <tr>\n",
       "      <th>3</th>\n",
       "      <td>Australia</td>\n",
       "      <td>Public spending on education</td>\n",
       "      <td>Tertiary</td>\n",
       "      <td>% of GDP</td>\n",
       "      <td>2009</td>\n",
       "      <td>0.734759</td>\n",
       "    </tr>\n",
       "    <tr>\n",
       "      <th>4</th>\n",
       "      <td>Australia</td>\n",
       "      <td>Public spending on education</td>\n",
       "      <td>Tertiary</td>\n",
       "      <td>% of GDP</td>\n",
       "      <td>2010</td>\n",
       "      <td>0.778470</td>\n",
       "    </tr>\n",
       "    <tr>\n",
       "      <th>...</th>\n",
       "      <td>...</td>\n",
       "      <td>...</td>\n",
       "      <td>...</td>\n",
       "      <td>...</td>\n",
       "      <td>...</td>\n",
       "      <td>...</td>\n",
       "    </tr>\n",
       "    <tr>\n",
       "      <th>4980</th>\n",
       "      <td>Romania</td>\n",
       "      <td>Private spending on education</td>\n",
       "      <td>SRY</td>\n",
       "      <td>% of GDP</td>\n",
       "      <td>2016</td>\n",
       "      <td>0.009614</td>\n",
       "    </tr>\n",
       "    <tr>\n",
       "      <th>4981</th>\n",
       "      <td>Romania</td>\n",
       "      <td>Private spending on education</td>\n",
       "      <td>SRY</td>\n",
       "      <td>% of GDP</td>\n",
       "      <td>2017</td>\n",
       "      <td>0.008390</td>\n",
       "    </tr>\n",
       "    <tr>\n",
       "      <th>4982</th>\n",
       "      <td>Romania</td>\n",
       "      <td>Private spending on education</td>\n",
       "      <td>SRY</td>\n",
       "      <td>% of GDP</td>\n",
       "      <td>2018</td>\n",
       "      <td>0.008427</td>\n",
       "    </tr>\n",
       "    <tr>\n",
       "      <th>4983</th>\n",
       "      <td>Romania</td>\n",
       "      <td>Private spending on education</td>\n",
       "      <td>SRY</td>\n",
       "      <td>% of GDP</td>\n",
       "      <td>2019</td>\n",
       "      <td>0.007973</td>\n",
       "    </tr>\n",
       "    <tr>\n",
       "      <th>4984</th>\n",
       "      <td>Romania</td>\n",
       "      <td>Private spending on education</td>\n",
       "      <td>SRY</td>\n",
       "      <td>% of GDP</td>\n",
       "      <td>2020</td>\n",
       "      <td>0.005315</td>\n",
       "    </tr>\n",
       "  </tbody>\n",
       "</table>\n",
       "<p>4985 rows × 6 columns</p>\n",
       "</div>"
      ],
      "text/plain": [
       "        Country             Spending_Indicator Type od Education  \\\n",
       "0     Australia   Public spending on education          Tertiary   \n",
       "1     Australia   Public spending on education          Tertiary   \n",
       "2     Australia   Public spending on education          Tertiary   \n",
       "3     Australia   Public spending on education          Tertiary   \n",
       "4     Australia   Public spending on education          Tertiary   \n",
       "...         ...                            ...               ...   \n",
       "4980    Romania  Private spending on education               SRY   \n",
       "4981    Romania  Private spending on education               SRY   \n",
       "4982    Romania  Private spending on education               SRY   \n",
       "4983    Romania  Private spending on education               SRY   \n",
       "4984    Romania  Private spending on education               SRY   \n",
       "\n",
       "     Measuring Spending  Year     Value  \n",
       "0              % of GDP  2000  0.744540  \n",
       "1              % of GDP  2005  0.689385  \n",
       "2              % of GDP  2008  0.689400  \n",
       "3              % of GDP  2009  0.734759  \n",
       "4              % of GDP  2010  0.778470  \n",
       "...                 ...   ...       ...  \n",
       "4980           % of GDP  2016  0.009614  \n",
       "4981           % of GDP  2017  0.008390  \n",
       "4982           % of GDP  2018  0.008427  \n",
       "4983           % of GDP  2019  0.007973  \n",
       "4984           % of GDP  2020  0.005315  \n",
       "\n",
       "[4985 rows x 6 columns]"
      ]
     },
     "execution_count": 150,
     "metadata": {},
     "output_type": "execute_result"
    }
   ],
   "source": [
    "df_spending.drop(columns = ['FREQUENCY'])"
   ]
  },
  {
   "cell_type": "code",
   "execution_count": 151,
   "id": "ead1f847",
   "metadata": {},
   "outputs": [],
   "source": [
    "df_rank.to_csv(os.path.join(path, 'THE_World_Universities_2016-2023_rankings_clean.csv'))"
   ]
  },
  {
   "cell_type": "code",
   "execution_count": 152,
   "id": "d457aaa4",
   "metadata": {},
   "outputs": [],
   "source": [
    "df_spending.to_csv(os.path.join(path, 'Exp_public_privat_ education_clean.csv'))"
   ]
  },
  {
   "cell_type": "code",
   "execution_count": null,
   "id": "17b2a59f",
   "metadata": {},
   "outputs": [],
   "source": []
  }
 ],
 "metadata": {
  "kernelspec": {
   "display_name": "Python 3 (ipykernel)",
   "language": "python",
   "name": "python3"
  },
  "language_info": {
   "codemirror_mode": {
    "name": "ipython",
    "version": 3
   },
   "file_extension": ".py",
   "mimetype": "text/x-python",
   "name": "python",
   "nbconvert_exporter": "python",
   "pygments_lexer": "ipython3",
   "version": "3.11.4"
  }
 },
 "nbformat": 4,
 "nbformat_minor": 5
}
